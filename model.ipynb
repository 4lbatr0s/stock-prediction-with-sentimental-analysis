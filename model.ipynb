{
 "cells": [
  {
   "cell_type": "code",
   "execution_count": 3,
   "metadata": {},
   "outputs": [
    {
     "name": "stderr",
     "output_type": "stream",
     "text": [
      "2022-01-10 20:39:29.411363: W tensorflow/stream_executor/platform/default/dso_loader.cc:64] Could not load dynamic library 'libcudart.so.11.0'; dlerror: libcudart.so.11.0: cannot open shared object file: No such file or directory; LD_LIBRARY_PATH: /opt/ros/noetic/lib\n",
      "2022-01-10 20:39:29.411398: I tensorflow/stream_executor/cuda/cudart_stub.cc:29] Ignore above cudart dlerror if you do not have a GPU set up on your machine.\n"
     ]
    }
   ],
   "source": [
    "import pandas as pd\n",
    "import numpy as np\n",
    "from tensorflow import keras as kr\n",
    "from sklearn.preprocessing import MinMaxScaler, StandardScaler\n",
    "from tensorflow.keras.models import Sequential;\n",
    "from tensorflow.keras.layers import Dense, Dropout, Flatten\n",
    "from keras.models import load_model\n",
    "from keras.layers import LSTM\n",
    "from sklearn.metrics import mean_squared_error, mean_absolute_percentage_error\n",
    "import matplotlib.pyplot as plt"
   ]
  },
  {
   "cell_type": "code",
   "execution_count": 4,
   "metadata": {},
   "outputs": [],
   "source": [
    "Ticker = 'MSFT'"
   ]
  },
  {
   "cell_type": "code",
   "execution_count": 5,
   "metadata": {},
   "outputs": [],
   "source": [
    "# merged_data = pd.read_excel(\"DB_tesla.xlsx\")\n",
    "merged_data = pd.read_excel(\"DB_{0}.xlsx\".format(Ticker))"
   ]
  },
  {
   "cell_type": "code",
   "execution_count": 6,
   "metadata": {},
   "outputs": [],
   "source": [
    "keep_columns=['Open','High','Low','Volume','Subjectivity','Polarity','Compound']    "
   ]
  },
  {
   "cell_type": "code",
   "execution_count": 7,
   "metadata": {},
   "outputs": [],
   "source": [
    "all_input_values=merged_data[keep_columns].values #numpy array."
   ]
  },
  {
   "cell_type": "code",
   "execution_count": 8,
   "metadata": {},
   "outputs": [
    {
     "name": "stdout",
     "output_type": "stream",
     "text": [
      "739\n",
      "-------------\n",
      "[[1.00099998e+02 1.00190002e+02 9.71999970e+01 4.25791000e+07\n",
      "  5.00000000e-01 0.00000000e+00 0.00000000e+00]\n",
      " [9.97200010e+01 1.02510002e+02 9.89300000e+01 4.40606000e+07\n",
      "  5.00000000e-01 0.00000000e+00 0.00000000e+00]\n",
      " [1.01639999e+02 1.03269997e+02 1.00980003e+02 3.56561000e+07\n",
      "  5.00000000e-01 0.00000000e+00 0.00000000e+00]\n",
      " [1.03040001e+02 1.03970001e+02 1.01709999e+02 3.15144000e+07\n",
      "  5.00000000e-01 0.00000000e+00 0.00000000e+00]\n",
      " [1.03860001e+02 1.04879997e+02 1.03239998e+02 3.22808000e+07\n",
      "  5.00000000e-01 0.00000000e+00 0.00000000e+00]]\n",
      "-------------\n",
      "[[9.97200010e+01 1.02510002e+02 9.89300000e+01 4.40606000e+07\n",
      "  5.00000000e-01 0.00000000e+00 0.00000000e+00]\n",
      " [1.01639999e+02 1.03269997e+02 1.00980003e+02 3.56561000e+07\n",
      "  5.00000000e-01 0.00000000e+00 0.00000000e+00]\n",
      " [1.03040001e+02 1.03970001e+02 1.01709999e+02 3.15144000e+07\n",
      "  5.00000000e-01 0.00000000e+00 0.00000000e+00]\n",
      " [1.03860001e+02 1.04879997e+02 1.03239998e+02 3.22808000e+07\n",
      "  5.00000000e-01 0.00000000e+00 0.00000000e+00]\n",
      " [1.03220001e+02 1.03750000e+02 1.02379997e+02 3.00676000e+07\n",
      "  5.00000000e-01 0.00000000e+00 0.00000000e+00]]\n"
     ]
    }
   ],
   "source": [
    "model_input=[]\n",
    "count_day=5\n",
    "pred_day_count=1\n",
    "\n",
    "j=0\n",
    "temp=[]\n",
    "for i in range(0,len(all_input_values)-count_day):\n",
    "    temp=all_input_values[i:i+count_day]    \n",
    "    model_input.append(temp)\n",
    "\n",
    "\n",
    "print(len(model_input))  \n",
    "print(\"-------------\")\n",
    "print(model_input[1])\n",
    "print(\"-------------\")\n",
    "print(model_input[2])"
   ]
  },
  {
   "cell_type": "code",
   "execution_count": 9,
   "metadata": {},
   "outputs": [
    {
     "name": "stdout",
     "output_type": "stream",
     "text": [
      "(739, 5, 7)\n"
     ]
    }
   ],
   "source": [
    "model_input=np.array(model_input)\n",
    "print(model_input.shape)"
   ]
  },
  {
   "cell_type": "code",
   "execution_count": 10,
   "metadata": {},
   "outputs": [],
   "source": [
    "all_close_values = merged_data['Close'].values"
   ]
  },
  {
   "cell_type": "code",
   "execution_count": 11,
   "metadata": {},
   "outputs": [],
   "source": [
    "model_close_values=[]\n",
    "for i in range(count_day,len(all_close_values)):\n",
    "    model_close_values.append(all_close_values[i])"
   ]
  },
  {
   "cell_type": "code",
   "execution_count": 12,
   "metadata": {},
   "outputs": [
    {
     "name": "stdout",
     "output_type": "stream",
     "text": [
      "(739,)\n",
      "(739, 5, 7)\n"
     ]
    }
   ],
   "source": [
    "model_close_values=np.array(model_close_values)\n",
    "print(model_close_values.shape)\n",
    "\n",
    "print(model_input.shape)"
   ]
  },
  {
   "cell_type": "code",
   "execution_count": 13,
   "metadata": {},
   "outputs": [
    {
     "data": {
      "text/plain": [
       "5"
      ]
     },
     "execution_count": 13,
     "metadata": {},
     "output_type": "execute_result"
    }
   ],
   "source": [
    "count_day"
   ]
  },
  {
   "cell_type": "code",
   "execution_count": 14,
   "metadata": {},
   "outputs": [],
   "source": [
    "training_size=int(len(model_input)*0.75)\n",
    "test_size=len(model_input)-training_size\n",
    "all_input_values_train, all_input_values_test=model_input[0:training_size,:],model_input[training_size:len(model_input),:]\n",
    "\n",
    "training_size=int(len(model_close_values)*0.75)\n",
    "all_close_values_train, all_close_values_test = model_close_values[0:training_size], model_close_values[training_size:len(model_close_values)]"
   ]
  },
  {
   "cell_type": "code",
   "execution_count": 15,
   "metadata": {},
   "outputs": [
    {
     "data": {
      "text/plain": [
       "array([104.269997, 103.599998, 102.800003, 102.050003, 105.010002])"
      ]
     },
     "execution_count": 15,
     "metadata": {},
     "output_type": "execute_result"
    }
   ],
   "source": [
    "all_close_values_train[0:count_day]"
   ]
  },
  {
   "cell_type": "code",
   "execution_count": 16,
   "metadata": {},
   "outputs": [],
   "source": [
    "all_close_values_train=np.array(all_close_values_train)\n",
    "all_close_values_test=np.array(all_close_values_test)"
   ]
  },
  {
   "cell_type": "code",
   "execution_count": 17,
   "metadata": {},
   "outputs": [
    {
     "data": {
      "text/plain": [
       "array([[[9.95500030e+01, 1.01750000e+02, 9.89400020e+01, 3.53293000e+07,\n",
       "         5.00000000e-01, 0.00000000e+00, 0.00000000e+00],\n",
       "        [1.00099998e+02, 1.00190002e+02, 9.71999970e+01, 4.25791000e+07,\n",
       "         5.00000000e-01, 0.00000000e+00, 0.00000000e+00],\n",
       "        [9.97200010e+01, 1.02510002e+02, 9.89300000e+01, 4.40606000e+07,\n",
       "         5.00000000e-01, 0.00000000e+00, 0.00000000e+00],\n",
       "        [1.01639999e+02, 1.03269997e+02, 1.00980003e+02, 3.56561000e+07,\n",
       "         5.00000000e-01, 0.00000000e+00, 0.00000000e+00],\n",
       "        [1.03040001e+02, 1.03970001e+02, 1.01709999e+02, 3.15144000e+07,\n",
       "         5.00000000e-01, 0.00000000e+00, 0.00000000e+00]],\n",
       "\n",
       "       [[1.00099998e+02, 1.00190002e+02, 9.71999970e+01, 4.25791000e+07,\n",
       "         5.00000000e-01, 0.00000000e+00, 0.00000000e+00],\n",
       "        [9.97200010e+01, 1.02510002e+02, 9.89300000e+01, 4.40606000e+07,\n",
       "         5.00000000e-01, 0.00000000e+00, 0.00000000e+00],\n",
       "        [1.01639999e+02, 1.03269997e+02, 1.00980003e+02, 3.56561000e+07,\n",
       "         5.00000000e-01, 0.00000000e+00, 0.00000000e+00],\n",
       "        [1.03040001e+02, 1.03970001e+02, 1.01709999e+02, 3.15144000e+07,\n",
       "         5.00000000e-01, 0.00000000e+00, 0.00000000e+00],\n",
       "        [1.03860001e+02, 1.04879997e+02, 1.03239998e+02, 3.22808000e+07,\n",
       "         5.00000000e-01, 0.00000000e+00, 0.00000000e+00]]])"
      ]
     },
     "execution_count": 17,
     "metadata": {},
     "output_type": "execute_result"
    }
   ],
   "source": [
    "all_input_values_train[0:2]"
   ]
  },
  {
   "cell_type": "code",
   "execution_count": 18,
   "metadata": {},
   "outputs": [
    {
     "name": "stdout",
     "output_type": "stream",
     "text": [
      "(554, 5, 7) (185, 5, 7) (554,) (185,)\n"
     ]
    }
   ],
   "source": [
    "print(all_input_values_train.shape, all_input_values_test.shape, all_close_values_train.shape, all_close_values_test.shape)"
   ]
  },
  {
   "cell_type": "code",
   "execution_count": 19,
   "metadata": {},
   "outputs": [
    {
     "data": {
      "text/plain": [
       "(554,)"
      ]
     },
     "execution_count": 19,
     "metadata": {},
     "output_type": "execute_result"
    }
   ],
   "source": [
    "all_close_values_train.shape"
   ]
  },
  {
   "cell_type": "code",
   "execution_count": 20,
   "metadata": {},
   "outputs": [
    {
     "name": "stdout",
     "output_type": "stream",
     "text": [
      "(554, 35)\n"
     ]
    }
   ],
   "source": [
    "all_input_values_train=np.reshape(all_input_values_train,(all_input_values_train.shape[0],all_input_values_train.shape[1]*all_input_values_train.shape[2]))\n",
    "print(all_input_values_train.shape)"
   ]
  },
  {
   "cell_type": "code",
   "execution_count": 21,
   "metadata": {},
   "outputs": [
    {
     "name": "stdout",
     "output_type": "stream",
     "text": [
      "(185, 35)\n"
     ]
    }
   ],
   "source": [
    "all_input_values_test=np.reshape(all_input_values_test,(all_input_values_test.shape[0], all_input_values_test.shape[1]*all_input_values_test.shape[2]))\n",
    "print(all_input_values_test.shape)"
   ]
  },
  {
   "cell_type": "code",
   "execution_count": 22,
   "metadata": {},
   "outputs": [],
   "source": [
    "#scaling\n",
    "scaler = MinMaxScaler(feature_range=(0,1))\n",
    "all_input_values_train=scaler.fit_transform(all_input_values_train) # hem fit ediyor hem de scale ediyor\n",
    "all_input_values_test=scaler.transform(all_input_values_test) # sadece transform olacak. cünkü model bu veriyi eğitim esnasında görmeyecek \n"
   ]
  },
  {
   "cell_type": "code",
   "execution_count": 23,
   "metadata": {},
   "outputs": [],
   "source": [
    "all_close_values_train = np.array([all_close_values_train]).T\n",
    "all_close_values_test = np.array([all_close_values_test]).T"
   ]
  },
  {
   "cell_type": "code",
   "execution_count": 24,
   "metadata": {},
   "outputs": [
    {
     "name": "stdout",
     "output_type": "stream",
     "text": [
      "(554, 35) (185, 35) (554, 1) (185, 1)\n"
     ]
    }
   ],
   "source": [
    "print(all_input_values_train.shape, all_input_values_test.shape, all_close_values_train.shape, all_close_values_test.shape)"
   ]
  },
  {
   "cell_type": "code",
   "execution_count": 25,
   "metadata": {},
   "outputs": [],
   "source": [
    "scaler2 = StandardScaler()\n",
    "all_close_values_train = scaler2.fit_transform(all_close_values_train)\n",
    "all_close_values_test = scaler2.transform(all_close_values_test)"
   ]
  },
  {
   "cell_type": "code",
   "execution_count": 26,
   "metadata": {},
   "outputs": [
    {
     "data": {
      "text/plain": [
       "array([[1.69410388],\n",
       "       [1.64163901],\n",
       "       [1.56442609],\n",
       "       [1.66688133],\n",
       "       [1.63619447],\n",
       "       [1.55229999],\n",
       "       [1.6493107 ],\n",
       "       [1.81215023],\n",
       "       [1.97845441],\n",
       "       [1.94850961],\n",
       "       [1.99899463],\n",
       "       [2.08189938],\n",
       "       [2.14624339],\n",
       "       [2.1477282 ],\n",
       "       [2.21157677],\n",
       "       [2.13980876],\n",
       "       [2.23657214],\n",
       "       [2.26725897],\n",
       "       [2.21776368],\n",
       "       [2.20588531],\n",
       "       [2.26329927],\n",
       "       [2.17891045],\n",
       "       [2.2774056 ],\n",
       "       [2.28730451],\n",
       "       [2.29769884],\n",
       "       [2.11431874],\n",
       "       [2.063586  ],\n",
       "       [2.05541923],\n",
       "       [2.04750018],\n",
       "       [1.94677708],\n",
       "       [1.91411039],\n",
       "       [1.99478758],\n",
       "       [2.06234891],\n",
       "       [1.93168102],\n",
       "       [1.90817083],\n",
       "       [1.72924548],\n",
       "       [1.82897845],\n",
       "       [1.95568626],\n",
       "       [1.88218574],\n",
       "       [1.83021591],\n",
       "       [1.83120564],\n",
       "       [1.91435774],\n",
       "       [1.88193838],\n",
       "       [2.02077268],\n",
       "       [2.04403551],\n",
       "       [2.03834365],\n",
       "       [1.98439362],\n",
       "       [1.99355012],\n",
       "       [1.93712553],\n",
       "       [1.93465098],\n",
       "       [1.89530233],\n",
       "       [2.02102001],\n",
       "       [2.09575801],\n",
       "       [2.06507115],\n",
       "       [2.09031348],\n",
       "       [2.18064222],\n",
       "       [2.19672881],\n",
       "       [2.24622409],\n",
       "       [2.20835946],\n",
       "       [2.18410726],\n",
       "       [2.27121869],\n",
       "       [2.23483963],\n",
       "       [2.31403238],\n",
       "       [2.38530571],\n",
       "       [2.37936576],\n",
       "       [2.41450773],\n",
       "       [2.37317885],\n",
       "       [2.46474542],\n",
       "       [2.53106893],\n",
       "       [2.51869511],\n",
       "       [2.53601875],\n",
       "       [2.68574169],\n",
       "       [2.68598941],\n",
       "       [2.74216629],\n",
       "       [2.6800502 ],\n",
       "       [2.6929187 ],\n",
       "       [2.67757529],\n",
       "       [2.76815175],\n",
       "       [2.80601562],\n",
       "       [2.76938884],\n",
       "       [2.76245952],\n",
       "       [2.66990359],\n",
       "       [2.72707057],\n",
       "       [2.77854534],\n",
       "       [2.89584968],\n",
       "       [2.98320881],\n",
       "       [2.96786465],\n",
       "       [2.90574859],\n",
       "       [2.89782915],\n",
       "       [2.90475846],\n",
       "       [2.86540981],\n",
       "       [2.8631826 ],\n",
       "       [2.92010188],\n",
       "       [2.90500619],\n",
       "       [2.97949607],\n",
       "       [2.97801126],\n",
       "       [2.95004633],\n",
       "       [2.90327366],\n",
       "       [2.9158952 ],\n",
       "       [2.98667311],\n",
       "       [3.06190614],\n",
       "       [3.10521451],\n",
       "       [3.06759762],\n",
       "       [3.00944126],\n",
       "       [3.15891647],\n",
       "       [3.34675097],\n",
       "       [3.35392801],\n",
       "       [3.30369032],\n",
       "       [3.28859463],\n",
       "       [3.21633117],\n",
       "       [3.23192231],\n",
       "       [3.32769556],\n",
       "       [3.28537732],\n",
       "       [3.28413949],\n",
       "       [3.26731127],\n",
       "       [3.26706431],\n",
       "       [3.24330603],\n",
       "       [3.24404841],\n",
       "       [3.17079561],\n",
       "       [3.13268402],\n",
       "       [3.16436098],\n",
       "       [3.23365485],\n",
       "       [3.35813543],\n",
       "       [3.36803434],\n",
       "       [3.23563431],\n",
       "       [3.09778977],\n",
       "       [3.11016359],\n",
       "       [3.20370965],\n",
       "       [3.22796262],\n",
       "       [3.22276581],\n",
       "       [3.0945732 ],\n",
       "       [2.83101022],\n",
       "       [2.84288936],\n",
       "       [2.79141459],\n",
       "       [2.96910248],\n",
       "       [2.82086359],\n",
       "       [2.96068838],\n",
       "       [3.06834   ],\n",
       "       [3.11140142],\n",
       "       [3.11140142],\n",
       "       [3.09605801],\n",
       "       [3.06264854],\n",
       "       [3.14753278],\n",
       "       [3.30690764],\n",
       "       [3.34303898],\n",
       "       [3.41926216],\n",
       "       [3.44252499],\n",
       "       [3.42223175],\n",
       "       [3.5051365 ],\n",
       "       [3.46554012],\n",
       "       [3.44005008],\n",
       "       [3.48904991],\n",
       "       [3.81225481],\n",
       "       [3.84145685],\n",
       "       [4.02137193],\n",
       "       [3.96568974],\n",
       "       [4.05874112],\n",
       "       [4.08027144],\n",
       "       [4.14065574],\n",
       "       [4.13125154],\n",
       "       [4.15426665],\n",
       "       [4.12852964],\n",
       "       [4.00107869],\n",
       "       [4.04141747],\n",
       "       [4.14758506],\n",
       "       [4.13149924],\n",
       "       [4.2166312 ],\n",
       "       [4.20697925],\n",
       "       [4.26018653],\n",
       "       [4.30572209],\n",
       "       [4.22454987],\n",
       "       [4.17134259],\n",
       "       [4.17703482],\n",
       "       [3.97336146],\n",
       "       [4.14535787],\n",
       "       [3.99588189],\n",
       "       [3.98326037],\n",
       "       [3.96865933],\n",
       "       [3.80829511],\n",
       "       [3.88699241],\n",
       "       [4.1030396 ],\n",
       "       [4.10427668],\n",
       "       [4.05799872],\n",
       "       [4.29161653],\n",
       "       [4.21390856]])"
      ]
     },
     "execution_count": 26,
     "metadata": {},
     "output_type": "execute_result"
    }
   ],
   "source": [
    "all_close_values_test"
   ]
  },
  {
   "cell_type": "code",
   "execution_count": null,
   "metadata": {},
   "outputs": [],
   "source": []
  },
  {
   "cell_type": "code",
   "execution_count": 27,
   "metadata": {},
   "outputs": [
    {
     "data": {
      "text/plain": [
       "(185, 1)"
      ]
     },
     "execution_count": 27,
     "metadata": {},
     "output_type": "execute_result"
    }
   ],
   "source": [
    "all_close_values_test.shape"
   ]
  },
  {
   "cell_type": "code",
   "execution_count": 28,
   "metadata": {},
   "outputs": [
    {
     "data": {
      "text/plain": [
       "(554, 35)"
      ]
     },
     "execution_count": 28,
     "metadata": {},
     "output_type": "execute_result"
    }
   ],
   "source": [
    "all_input_values_train.shape"
   ]
  },
  {
   "cell_type": "code",
   "execution_count": 29,
   "metadata": {},
   "outputs": [
    {
     "data": {
      "text/plain": [
       "(185, 35)"
      ]
     },
     "execution_count": 29,
     "metadata": {},
     "output_type": "execute_result"
    }
   ],
   "source": [
    "all_input_values_test.shape"
   ]
  },
  {
   "cell_type": "code",
   "execution_count": 30,
   "metadata": {},
   "outputs": [
    {
     "name": "stderr",
     "output_type": "stream",
     "text": [
      "2022-01-10 20:39:42.894099: W tensorflow/stream_executor/platform/default/dso_loader.cc:64] Could not load dynamic library 'libcuda.so.1'; dlerror: libcuda.so.1: cannot open shared object file: No such file or directory; LD_LIBRARY_PATH: /opt/ros/noetic/lib\n",
      "2022-01-10 20:39:42.894140: W tensorflow/stream_executor/cuda/cuda_driver.cc:269] failed call to cuInit: UNKNOWN ERROR (303)\n",
      "2022-01-10 20:39:42.894176: I tensorflow/stream_executor/cuda/cuda_diagnostics.cc:156] kernel driver does not appear to be running on this host (serhat-huawei): /proc/driver/nvidia/version does not exist\n",
      "2022-01-10 20:39:42.894592: I tensorflow/core/platform/cpu_feature_guard.cc:151] This TensorFlow binary is optimized with oneAPI Deep Neural Network Library (oneDNN) to use the following CPU instructions in performance-critical operations:  AVX2 FMA\n",
      "To enable them in other operations, rebuild TensorFlow with the appropriate compiler flags.\n"
     ]
    }
   ],
   "source": [
    "# Taban model ile ana model birleştirilir. \n",
    "\n",
    "model=Sequential()\n",
    "model.add(LSTM(units = 50, input_shape = (all_input_values_train.shape[1],1), return_sequences=True))\n",
    "model.add(LSTM(units=50))\n",
    "# model.add(LSTM(units=50,return_sequences=True))\n",
    "# model.add(LSTM(units=50))\n",
    "model.add(Flatten())\n",
    "model.add(Dense(units = 128))\n",
    "model.add(Dropout(0.2))\n",
    "model.add(Dense(units = 1))"
   ]
  },
  {
   "cell_type": "code",
   "execution_count": 31,
   "metadata": {},
   "outputs": [],
   "source": [
    "# model = model(inputs=baseModel.input, outputs=headModel)"
   ]
  },
  {
   "cell_type": "code",
   "execution_count": 32,
   "metadata": {},
   "outputs": [
    {
     "name": "stderr",
     "output_type": "stream",
     "text": [
      "/home/serhatoner/.local/lib/python3.8/site-packages/keras/optimizer_v2/adam.py:105: UserWarning: The `lr` argument is deprecated, use `learning_rate` instead.\n",
      "  super(Adam, self).__init__(name, **kwargs)\n"
     ]
    }
   ],
   "source": [
    "opt = kr.optimizers.Adam(lr=0.001, decay=1e-4)"
   ]
  },
  {
   "cell_type": "code",
   "execution_count": 33,
   "metadata": {},
   "outputs": [],
   "source": [
    "model.compile(optimizer=opt, loss='mean_squared_error') #learning rate atanabilir."
   ]
  },
  {
   "cell_type": "code",
   "execution_count": 34,
   "metadata": {},
   "outputs": [
    {
     "data": {
      "text/plain": [
       "numpy.ndarray"
      ]
     },
     "execution_count": 34,
     "metadata": {},
     "output_type": "execute_result"
    }
   ],
   "source": [
    "type(all_input_values_train)"
   ]
  },
  {
   "cell_type": "code",
   "execution_count": 35,
   "metadata": {},
   "outputs": [
    {
     "name": "stdout",
     "output_type": "stream",
     "text": [
      "Epoch 1/25\n",
      "35/35 [==============================] - 6s 36ms/step - loss: 0.3636\n",
      "Epoch 2/25\n",
      "35/35 [==============================] - 1s 37ms/step - loss: 0.0514\n",
      "Epoch 3/25\n",
      "35/35 [==============================] - 1s 37ms/step - loss: 0.0445\n",
      "Epoch 4/25\n",
      "35/35 [==============================] - 1s 37ms/step - loss: 0.0506\n",
      "Epoch 5/25\n",
      "35/35 [==============================] - 1s 38ms/step - loss: 0.0507\n",
      "Epoch 6/25\n",
      "35/35 [==============================] - 1s 37ms/step - loss: 0.0470\n",
      "Epoch 7/25\n",
      "35/35 [==============================] - 1s 38ms/step - loss: 0.0451\n",
      "Epoch 8/25\n",
      "35/35 [==============================] - 1s 37ms/step - loss: 0.0428\n",
      "Epoch 9/25\n",
      "35/35 [==============================] - 1s 37ms/step - loss: 0.0424\n",
      "Epoch 10/25\n",
      "35/35 [==============================] - 1s 36ms/step - loss: 0.0437\n",
      "Epoch 11/25\n",
      "35/35 [==============================] - 1s 38ms/step - loss: 0.0408\n",
      "Epoch 12/25\n",
      "35/35 [==============================] - 1s 41ms/step - loss: 0.0443\n",
      "Epoch 13/25\n",
      "35/35 [==============================] - 1s 39ms/step - loss: 0.0410\n",
      "Epoch 14/25\n",
      "35/35 [==============================] - 1s 40ms/step - loss: 0.0455\n",
      "Epoch 15/25\n",
      "35/35 [==============================] - 1s 37ms/step - loss: 0.0435\n",
      "Epoch 16/25\n",
      "35/35 [==============================] - 1s 39ms/step - loss: 0.0408\n",
      "Epoch 17/25\n",
      "35/35 [==============================] - 1s 37ms/step - loss: 0.0439\n",
      "Epoch 18/25\n",
      "35/35 [==============================] - 1s 38ms/step - loss: 0.0417\n",
      "Epoch 19/25\n",
      "35/35 [==============================] - 1s 37ms/step - loss: 0.0653\n",
      "Epoch 20/25\n",
      "35/35 [==============================] - 1s 38ms/step - loss: 0.0566\n",
      "Epoch 21/25\n",
      "35/35 [==============================] - 1s 38ms/step - loss: 0.0422\n",
      "Epoch 22/25\n",
      "35/35 [==============================] - 1s 37ms/step - loss: 0.0399\n",
      "Epoch 23/25\n",
      "35/35 [==============================] - 1s 41ms/step - loss: 0.0375\n",
      "Epoch 24/25\n",
      "35/35 [==============================] - 1s 38ms/step - loss: 0.0375\n",
      "Epoch 25/25\n",
      "35/35 [==============================] - 1s 38ms/step - loss: 0.0355\n"
     ]
    },
    {
     "data": {
      "text/plain": [
       "<keras.callbacks.History at 0x7f6e6c404610>"
      ]
     },
     "execution_count": 35,
     "metadata": {},
     "output_type": "execute_result"
    }
   ],
   "source": [
    "model.fit(all_input_values_train, all_close_values_train, epochs=25,batch_size=16,verbose=1)"
   ]
  },
  {
   "cell_type": "code",
   "execution_count": 36,
   "metadata": {},
   "outputs": [
    {
     "name": "stdout",
     "output_type": "stream",
     "text": [
      "all_close_values_train shape:  (554, 1)\n",
      "all_close_values_test shape:  (185, 1)\n",
      "all_close_values_test_pred shape:  (185, 1)\n",
      "all_close_values_test_pred shape:  (185, 1)\n"
     ]
    }
   ],
   "source": [
    "train_predict=model.predict(all_input_values_train)\n",
    "test_predict=model.predict(all_input_values_test)\n",
    "\n",
    "#train_predict = train_predict.reshape((train_predict.shape[0],5,1))\n",
    "#test_predict = test_predict.reshape((test_predict.shape[0],5,1))\n",
    "\n",
    "# print('all_close_values_train shape: ', all_close_values_train.shape, '\\nall_close_values_train', all_close_values_train[0:5], '\\n')\n",
    "# print('all_close_values_train_predict shape: ', train_predict.shape, '\\nall_close_values_train_pred', train_predict[0:5], '\\n')\n",
    "# print('all_close_values_test shape: ', all_close_values_test.shape, '\\nall_close_values_test', all_close_values_test[0:5], '\\n')\n",
    "# print('all_close_values_test_pred shape: ', test_predict.shape, '\\nall_close_values_test_pred', test_predict[0:5])\n",
    "\n",
    "print('all_close_values_train shape: ', all_close_values_train.shape)\n",
    "\n",
    "print('all_close_values_test shape: ', all_close_values_test.shape)\n",
    "print('all_close_values_test_pred shape: ', test_predict.shape)\n",
    "print('all_close_values_test_pred shape: ', test_predict.shape)\n"
   ]
  },
  {
   "cell_type": "code",
   "execution_count": 37,
   "metadata": {},
   "outputs": [
    {
     "data": {
      "text/plain": [
       "array([1.8067926], dtype=float32)"
      ]
     },
     "execution_count": 37,
     "metadata": {},
     "output_type": "execute_result"
    }
   ],
   "source": [
    "test_predict[0]"
   ]
  },
  {
   "cell_type": "code",
   "execution_count": 38,
   "metadata": {},
   "outputs": [
    {
     "name": "stdout",
     "output_type": "stream",
     "text": [
      "6/6 [==============================] - 1s 16ms/step - loss: 0.0434\n"
     ]
    }
   ],
   "source": [
    "score = model.evaluate(all_input_values_test, all_close_values_test)"
   ]
  },
  {
   "cell_type": "code",
   "execution_count": 39,
   "metadata": {},
   "outputs": [
    {
     "name": "stdout",
     "output_type": "stream",
     "text": [
      "18/18 [==============================] - 0s 14ms/step - loss: 0.0362\n"
     ]
    },
    {
     "data": {
      "text/plain": [
       "0.03619348630309105"
      ]
     },
     "execution_count": 39,
     "metadata": {},
     "output_type": "execute_result"
    }
   ],
   "source": [
    "model.evaluate(all_input_values_train, all_close_values_train)"
   ]
  },
  {
   "cell_type": "code",
   "execution_count": 40,
   "metadata": {},
   "outputs": [
    {
     "data": {
      "text/plain": [
       "0.043383143842220306"
      ]
     },
     "execution_count": 40,
     "metadata": {},
     "output_type": "execute_result"
    }
   ],
   "source": [
    "score"
   ]
  },
  {
   "cell_type": "code",
   "execution_count": 41,
   "metadata": {},
   "outputs": [],
   "source": [
    "# test_predict = test_predict.reshape((test_predict.shape[0],5))"
   ]
  },
  {
   "cell_type": "code",
   "execution_count": 42,
   "metadata": {},
   "outputs": [],
   "source": [
    "# train_predict = train_predict.reshape((train_predict.shape[0],5))"
   ]
  },
  {
   "cell_type": "code",
   "execution_count": null,
   "metadata": {},
   "outputs": [],
   "source": []
  },
  {
   "cell_type": "code",
   "execution_count": 43,
   "metadata": {},
   "outputs": [],
   "source": [
    "test_predict = scaler2.inverse_transform(test_predict)\n",
    "train_predict = scaler2.inverse_transform(train_predict)"
   ]
  },
  {
   "cell_type": "code",
   "execution_count": 44,
   "metadata": {},
   "outputs": [
    {
     "data": {
      "text/plain": [
       "(554, 1)"
      ]
     },
     "execution_count": 44,
     "metadata": {},
     "output_type": "execute_result"
    }
   ],
   "source": [
    "train_predict.shape"
   ]
  },
  {
   "cell_type": "code",
   "execution_count": 45,
   "metadata": {},
   "outputs": [],
   "source": [
    "#test_predict=test_predict.reshape((test_predict.shape[0]*test_predict.shape[1],1))"
   ]
  },
  {
   "cell_type": "code",
   "execution_count": 46,
   "metadata": {},
   "outputs": [
    {
     "data": {
      "text/plain": [
       "(185, 1)"
      ]
     },
     "execution_count": 46,
     "metadata": {},
     "output_type": "execute_result"
    }
   ],
   "source": [
    "test_predict.shape"
   ]
  },
  {
   "cell_type": "code",
   "execution_count": 47,
   "metadata": {},
   "outputs": [],
   "source": [
    "# train_predict = np.array(train_predict).T\n",
    "# test_predict = np.array(test_predict).T"
   ]
  },
  {
   "cell_type": "code",
   "execution_count": 48,
   "metadata": {},
   "outputs": [
    {
     "name": "stdout",
     "output_type": "stream",
     "text": [
      "(185, 1)\n"
     ]
    }
   ],
   "source": [
    "all_close_values_test=np.array(all_close_values_test)\n",
    "print(all_close_values_test.shape)"
   ]
  },
  {
   "cell_type": "code",
   "execution_count": 49,
   "metadata": {},
   "outputs": [
    {
     "data": {
      "text/plain": [
       "(185, 1)"
      ]
     },
     "execution_count": 49,
     "metadata": {},
     "output_type": "execute_result"
    }
   ],
   "source": [
    "test_predict.shape"
   ]
  },
  {
   "cell_type": "code",
   "execution_count": 50,
   "metadata": {},
   "outputs": [],
   "source": [
    "all_close_values_train = scaler2.inverse_transform(all_close_values_train)\n",
    "all_close_values_test = scaler2.inverse_transform(all_close_values_test)"
   ]
  },
  {
   "cell_type": "code",
   "execution_count": 51,
   "metadata": {},
   "outputs": [
    {
     "data": {
      "text/plain": [
       "(185, 1)"
      ]
     },
     "execution_count": 51,
     "metadata": {},
     "output_type": "execute_result"
    }
   ],
   "source": [
    "all_close_values_test.shape"
   ]
  },
  {
   "cell_type": "code",
   "execution_count": 52,
   "metadata": {},
   "outputs": [
    {
     "name": "stdout",
     "output_type": "stream",
     "text": [
      "0.021239669377052548\n",
      "0.030412357342937735\n"
     ]
    }
   ],
   "source": [
    "mape_test = mean_absolute_percentage_error(all_close_values_test, test_predict)\n",
    "mape_train = mean_absolute_percentage_error(all_close_values_train, train_predict)\n",
    "print(mape_test)\n",
    "print(mape_train)"
   ]
  },
  {
   "cell_type": "code",
   "execution_count": 53,
   "metadata": {},
   "outputs": [
    {
     "name": "stdout",
     "output_type": "stream",
     "text": [
      "8.416405686052938\n"
     ]
    }
   ],
   "source": [
    "rmse = np.sqrt(mean_squared_error(all_close_values_test, test_predict)) #neden yüksek çıkıyor, mape ile karşılastır tekrar bak\n",
    "print(rmse)"
   ]
  },
  {
   "cell_type": "code",
   "execution_count": 54,
   "metadata": {},
   "outputs": [
    {
     "data": {
      "text/plain": [
       "(554, 1)"
      ]
     },
     "execution_count": 54,
     "metadata": {},
     "output_type": "execute_result"
    }
   ],
   "source": [
    "train_predict=np.array(train_predict)\n",
    "train_predict.shape"
   ]
  },
  {
   "cell_type": "code",
   "execution_count": 55,
   "metadata": {},
   "outputs": [
    {
     "data": {
      "text/plain": [
       "array([110.47926], dtype=float32)"
      ]
     },
     "execution_count": 55,
     "metadata": {},
     "output_type": "execute_result"
    }
   ],
   "source": [
    "test=all_close_values[count_day:]\n",
    "train_predict[1]"
   ]
  },
  {
   "cell_type": "code",
   "execution_count": 56,
   "metadata": {},
   "outputs": [
    {
     "data": {
      "text/plain": [
       "array([104.269997, 103.599998, 102.800003, 102.050003, 105.010002,\n",
       "       105.379997, 106.120003, 107.709999, 105.68    , 106.709999,\n",
       "       106.199997, 107.169998, 105.080002, 102.940002, 106.379997,\n",
       "       104.43    , 102.779999, 105.739998, 107.220001, 106.029999,\n",
       "       105.269997, 105.669998, 105.25    , 106.889999, 106.809998,\n",
       "       106.900002, 108.220001, 108.169998, 107.150002, 109.410004,\n",
       "       110.970001, 111.589996, 112.360001, 112.169998, 112.029999,\n",
       "       112.529999, 112.260002, 111.699997, 111.75    , 110.389999,\n",
       "       110.510002, 112.830002, 113.620003, 114.5     , 114.589996,\n",
       "       115.910004, 117.57    , 117.650002, 117.519997, 120.220001,\n",
       "       117.050003, 117.660004, 117.910004, 116.769997, 116.93    ,\n",
       "       117.940002, 119.019997, 119.190002, 119.970001, 119.360001,\n",
       "       119.889999, 119.93    , 119.279999, 120.190002, 120.330002,\n",
       "       120.949997, 121.050003, 120.769997, 121.769997, 123.370003,\n",
       "       123.760002, 125.440002, 125.010002, 129.149994, 129.889999,\n",
       "       129.770004, 130.600006, 127.879997, 126.209999, 128.899994,\n",
       "       128.149994, 125.519997, 125.510002, 125.5     , 127.129997,\n",
       "       123.349998, 124.730003, 126.019997, 128.929993, 128.070007,\n",
       "       126.220001, 126.900002, 127.669998, 126.18    , 126.239998,\n",
       "       126.160004, 124.940002, 125.730003, 123.68    , 119.839996,\n",
       "       123.160004, 125.830002, 127.82    , 131.399994, 132.600006,\n",
       "       132.100006, 131.490005, 132.320007, 132.449997, 132.850006,\n",
       "       135.160004, 135.690002, 136.949997, 136.970001, 137.779999,\n",
       "       133.429993, 133.929993, 134.149994, 133.960007, 135.679993,\n",
       "       136.580002, 137.460007, 137.059998, 136.960007, 136.460007,\n",
       "       137.850006, 138.399994, 138.899994, 138.899994, 137.080002,\n",
       "       136.270004, 136.419998, 136.619995, 138.429993, 139.289993,\n",
       "       140.720001, 140.190002, 141.339996, 141.029999, 140.350006,\n",
       "       136.270004, 138.059998, 136.899994, 132.210007, 134.690002,\n",
       "       135.279999, 138.889999, 137.710007, 135.789993, 138.600006,\n",
       "       133.979996, 133.679993, 136.130005, 138.410004, 137.259995,\n",
       "       138.789993, 137.779999, 133.389999, 135.449997, 135.740005,\n",
       "       135.559998, 138.119995, 137.860001, 136.039993, 137.630005,\n",
       "       140.050003, 139.100006, 137.520004, 136.080002, 136.119995,\n",
       "       137.520004, 137.320007, 136.330002, 137.389999, 138.520004,\n",
       "       141.070007, 139.440002, 139.139999, 137.380005, 139.360001,\n",
       "       139.539993, 137.729996, 139.029999, 137.070007, 134.649994,\n",
       "       136.279999, 138.119995, 137.119995, 135.669998, 138.240005,\n",
       "       139.100006, 139.679993, 139.550003, 141.570007, 140.410004,\n",
       "       139.690002, 137.410004, 138.429993, 136.369995, 137.240005,\n",
       "       139.940002, 140.729996, 144.190002, 142.830002, 144.610001,\n",
       "       143.369995, 143.720001, 144.550003, 144.460007, 144.059998,\n",
       "       144.259995, 145.960007, 146.110001, 147.070007, 147.309998,\n",
       "       148.059998, 149.970001, 150.339996, 150.389999, 149.619995,\n",
       "       149.479996, 149.589996, 151.229996, 152.029999, 152.320007,\n",
       "       151.380005, 149.550003, 149.309998, 149.850006, 149.929993,\n",
       "       151.75    , 151.360001, 151.130005, 151.699997, 153.240005,\n",
       "       154.529999, 155.529999, 154.690002, 154.369995, 155.710007,\n",
       "       157.410004, 157.410004, 157.380005, 158.669998, 158.960007,\n",
       "       157.589996, 157.699997, 160.619995, 158.619995, 159.029999,\n",
       "       157.580002, 160.089996, 162.089996, 161.339996, 163.279999,\n",
       "       162.130005, 163.179993, 166.169998, 167.100006, 166.5     ,\n",
       "       165.699997, 166.720001, 165.039993, 162.279999, 165.460007,\n",
       "       168.039993, 172.779999, 170.229996, 174.380005, 180.119995,\n",
       "       179.899994, 183.630005, 183.889999, 188.699997, 184.440002,\n",
       "       184.710007, 183.710007, 185.350006, 187.229996, 187.279999,\n",
       "       184.419998, 178.589996, 170.889999, 168.070007, 170.169998,\n",
       "       158.179993, 162.009995, 172.789993, 164.509995, 170.550003,\n",
       "       166.270004, 161.570007, 150.619995, 160.919998, 153.630005,\n",
       "       139.059998, 158.830002, 135.419998, 146.570007, 140.399994,\n",
       "       142.710007, 137.350006, 135.979996, 148.339996, 146.919998,\n",
       "       156.110001, 149.699997, 160.229996, 157.710007, 152.110001,\n",
       "       155.259995, 153.830002, 165.270004, 163.490005, 165.130005,\n",
       "       165.139999, 165.509995, 173.699997, 171.880005, 177.039993,\n",
       "       178.600006, 175.059998, 167.820007, 173.520004, 171.419998,\n",
       "       174.550003, 174.050003, 169.809998, 177.429993, 179.210007,\n",
       "       174.570007, 178.839996, 180.759995, 182.539993, 183.600006,\n",
       "       184.679993, 186.740005, 182.509995, 179.75    , 180.529999,\n",
       "       183.160004, 184.910004, 183.630005, 185.660004, 183.429993,\n",
       "       183.509995, 181.570007, 181.809998, 181.399994, 183.25    ,\n",
       "       182.830002, 184.910004, 185.360001, 182.919998, 187.199997,\n",
       "       188.360001, 189.800003, 196.839996, 186.270004, 187.740005,\n",
       "       188.940002, 193.570007, 194.240005, 196.320007, 195.149994,\n",
       "       200.570007, 201.910004, 197.839996, 200.339996, 196.330002,\n",
       "       198.440002, 203.509995, 204.699997, 206.259995, 210.699997,\n",
       "       208.25    , 212.830002, 214.320007, 213.669998, 207.070007,\n",
       "       208.350006, 208.039993, 203.919998, 202.880005, 211.600006,\n",
       "       208.75    , 211.75    , 202.539993, 201.300003, 203.850006,\n",
       "       202.020004, 204.059998, 203.899994, 205.009995, 216.539993,\n",
       "       213.289993, 212.940002, 216.350006, 212.479996, 208.25    ,\n",
       "       203.380005, 209.190002, 208.699997, 208.899994, 210.279999,\n",
       "       211.490005, 209.699997, 214.580002, 213.020004, 213.690002,\n",
       "       216.470001, 221.149994, 226.580002, 228.910004, 225.529999,\n",
       "       227.270004, 231.649994, 217.300003, 214.25    , 202.660004,\n",
       "       211.289993, 205.369995, 204.029999, 205.410004, 208.779999,\n",
       "       205.050003, 202.910004, 200.389999, 202.539993, 207.419998,\n",
       "       200.589996, 203.190002, 207.820007, 209.440002, 207.259995,\n",
       "       210.330002, 212.460007, 206.190002, 210.380005, 205.910004,\n",
       "       209.830002, 210.580002, 215.809998, 221.399994, 222.860001,\n",
       "       220.860001, 219.660004, 219.660004, 214.220001, 214.649994,\n",
       "       214.800003, 214.889999, 216.229996, 210.080002, 213.25    ,\n",
       "       202.679993, 204.720001, 202.470001, 202.330002, 206.429993,\n",
       "       216.389999, 223.289993, 223.720001, 218.389999, 211.009995,\n",
       "       216.550003, 215.440002, 216.509995, 217.229996, 214.460007,\n",
       "       211.080002, 212.419998, 210.389999, 210.110001, 213.860001,\n",
       "       213.869995, 215.229996, 214.070007, 216.210007, 215.369995,\n",
       "       214.240005, 214.360001, 214.289993, 216.009995, 211.800003,\n",
       "       210.520004, 213.259995, 214.199997, 214.130005, 219.279999,\n",
       "       219.419998, 218.589996, 222.589996, 223.940002, 221.020004,\n",
       "       222.75    , 224.960007, 224.149994, 221.679993, 222.419998,\n",
       "       217.690002, 217.899994, 212.25    , 218.289993, 219.619995,\n",
       "       217.490005, 214.929993, 216.339996, 213.020004, 212.649994,\n",
       "       216.440002, 224.339996, 224.970001, 225.949997, 229.529999,\n",
       "       232.330002, 232.899994, 238.929993, 231.960007, 239.649994,\n",
       "       239.509995, 243.      , 242.009995, 242.199997, 242.470001,\n",
       "       243.770004, 242.820007, 244.490005, 244.990005, 243.699997,\n",
       "       244.199997, 243.789993, 240.970001, 234.509995, 233.270004,\n",
       "       234.550003, 228.990005, 232.380005, 236.940002, 233.869995,\n",
       "       227.559998, 226.729996, 231.600006, 227.389999, 233.779999,\n",
       "       232.419998, 237.130005, 235.75    , 234.809998, 237.710007,\n",
       "       237.039993, 230.720001, 230.350006, 235.990005, 237.580002,\n",
       "       235.460007, 232.339996, 236.479996, 235.240005, 231.850006,\n",
       "       235.770004, 242.350006, 249.070007, 247.860001, 249.899994,\n",
       "       253.25    , 255.850006, 255.910004, 258.48999 , 255.589996,\n",
       "       259.5     , 260.73999 , 258.73999 , 258.26001 , 260.579987,\n",
       "       257.170013, 261.149994, 261.549988, 261.970001, 254.559998,\n",
       "       252.509995, 252.179993, 251.860001, 247.789993, 246.470001,\n",
       "       249.729996, 252.460007, 247.179993, 246.229996, 239.      ,\n",
       "       243.029999, 248.149994, 245.179993, 243.080002, 243.119995,\n",
       "       246.479996, 245.169998, 250.779999, 251.720001, 251.490005,\n",
       "       249.309998, 249.679993, 247.399994, 247.300003, 245.710007,\n",
       "       250.789993, 253.809998, 252.570007, 253.589996, 257.23999 ,\n",
       "       257.890015, 259.890015, 258.359985, 257.380005, 260.899994,\n",
       "       259.429993, 262.630005, 265.51001 , 265.269989, 266.690002,\n",
       "       265.019989, 268.720001, 271.399994, 270.899994, 271.600006,\n",
       "       277.649994, 277.660004, 279.929993, 277.420013, 277.940002,\n",
       "       277.320007, 280.980011, 282.51001 , 281.029999, 280.75    ,\n",
       "       277.01001 , 279.320007, 281.399994, 286.140015, 289.670013,\n",
       "       289.049988, 286.540009, 286.220001, 286.5     , 284.910004,\n",
       "       284.820007, 287.119995, 286.51001 , 289.519989, 289.459991,\n",
       "       288.329987, 286.440002, 286.950012, 289.809998, 292.850006,\n",
       "       294.600006, 293.079987, 290.730011, 296.769989, 304.359985,\n",
       "       304.649994, 302.619995, 302.01001 , 299.089996, 299.720001,\n",
       "       303.589996, 301.880005, 301.829987, 301.149994, 301.140015,\n",
       "       300.179993, 300.209991, 297.25    , 295.709991, 296.98999 ,\n",
       "       299.790009, 304.820007, 305.220001, 299.869995, 294.299988,\n",
       "       294.799988, 298.579987, 299.559998, 299.350006, 294.170013,\n",
       "       283.519989, 284.      , 281.920013, 289.100006, 283.109985,\n",
       "       288.76001 , 293.109985, 294.850006, 294.850006, 294.230011,\n",
       "       292.880005, 296.309998, 302.75    , 304.209991, 307.290009,\n",
       "       308.230011, 307.410004, 310.76001 , 309.160004, 308.130005,\n",
       "       310.109985, 323.170013, 324.350006, 331.619995, 329.369995,\n",
       "       333.130005, 334.      , 336.440002, 336.059998, 336.98999 ,\n",
       "       335.950012, 330.799988, 332.429993, 336.720001, 336.070007,\n",
       "       339.51001 , 339.119995, 341.269989, 343.109985, 339.829987,\n",
       "       337.679993, 337.910004, 329.679993, 336.630005, 330.589996,\n",
       "       330.079987, 329.48999 , 323.01001 , 326.190002, 334.920013,\n",
       "       334.970001, 333.100006, 342.540009, 339.399994])"
      ]
     },
     "execution_count": 56,
     "metadata": {},
     "output_type": "execute_result"
    }
   ],
   "source": [
    "model_close_values"
   ]
  },
  {
   "cell_type": "code",
   "execution_count": 57,
   "metadata": {},
   "outputs": [
    {
     "data": {
      "text/plain": [
       "array([101.120003,  97.400002, 101.93    , 102.059998, 102.800003,\n",
       "       104.269997, 103.599998, 102.800003, 102.050003, 105.010002,\n",
       "       105.379997, 106.120003, 107.709999, 105.68    , 106.709999,\n",
       "       106.199997, 107.169998, 105.080002, 102.940002, 106.379997,\n",
       "       104.43    , 102.779999, 105.739998, 107.220001, 106.029999,\n",
       "       105.269997, 105.669998, 105.25    , 106.889999, 106.809998,\n",
       "       106.900002, 108.220001, 108.169998, 107.150002, 109.410004,\n",
       "       110.970001, 111.589996, 112.360001, 112.169998, 112.029999,\n",
       "       112.529999, 112.260002, 111.699997, 111.75    , 110.389999,\n",
       "       110.510002, 112.830002, 113.620003, 114.5     , 114.589996,\n",
       "       115.910004, 117.57    , 117.650002, 117.519997, 120.220001,\n",
       "       117.050003, 117.660004, 117.910004, 116.769997, 116.93    ,\n",
       "       117.940002, 119.019997, 119.190002, 119.970001, 119.360001,\n",
       "       119.889999, 119.93    , 119.279999, 120.190002, 120.330002,\n",
       "       120.949997, 121.050003, 120.769997, 121.769997, 123.370003,\n",
       "       123.760002, 125.440002, 125.010002, 129.149994, 129.889999,\n",
       "       129.770004, 130.600006, 127.879997, 126.209999, 128.899994,\n",
       "       128.149994, 125.519997, 125.510002, 125.5     , 127.129997,\n",
       "       123.349998, 124.730003, 126.019997, 128.929993, 128.070007,\n",
       "       126.220001, 126.900002, 127.669998, 126.18    , 126.239998,\n",
       "       126.160004, 124.940002, 125.730003, 123.68    , 119.839996,\n",
       "       123.160004, 125.830002, 127.82    , 131.399994, 132.600006,\n",
       "       132.100006, 131.490005, 132.320007, 132.449997, 132.850006,\n",
       "       135.160004, 135.690002, 136.949997, 136.970001, 137.779999,\n",
       "       133.429993, 133.929993, 134.149994, 133.960007, 135.679993,\n",
       "       136.580002, 137.460007, 137.059998, 136.960007, 136.460007,\n",
       "       137.850006, 138.399994, 138.899994, 138.899994, 137.080002,\n",
       "       136.270004, 136.419998, 136.619995, 138.429993, 139.289993,\n",
       "       140.720001, 140.190002, 141.339996, 141.029999, 140.350006,\n",
       "       136.270004, 138.059998, 136.899994, 132.210007, 134.690002,\n",
       "       135.279999, 138.889999, 137.710007, 135.789993, 138.600006,\n",
       "       133.979996, 133.679993, 136.130005, 138.410004, 137.259995,\n",
       "       138.789993, 137.779999, 133.389999, 135.449997, 135.740005,\n",
       "       135.559998, 138.119995, 137.860001, 136.039993, 137.630005,\n",
       "       140.050003, 139.100006, 137.520004, 136.080002, 136.119995,\n",
       "       137.520004, 137.320007, 136.330002, 137.389999, 138.520004,\n",
       "       141.070007, 139.440002, 139.139999, 137.380005, 139.360001,\n",
       "       139.539993, 137.729996, 139.029999, 137.070007, 134.649994,\n",
       "       136.279999, 138.119995, 137.119995, 135.669998, 138.240005,\n",
       "       139.100006, 139.679993, 139.550003, 141.570007, 140.410004,\n",
       "       139.690002, 137.410004, 138.429993, 136.369995, 137.240005,\n",
       "       139.940002, 140.729996, 144.190002, 142.830002, 144.610001,\n",
       "       143.369995, 143.720001, 144.550003, 144.460007, 144.059998,\n",
       "       144.259995, 145.960007, 146.110001, 147.070007, 147.309998,\n",
       "       148.059998, 149.970001, 150.339996, 150.389999, 149.619995,\n",
       "       149.479996, 149.589996, 151.229996, 152.029999, 152.320007,\n",
       "       151.380005, 149.550003, 149.309998, 149.850006, 149.929993,\n",
       "       151.75    , 151.360001, 151.130005, 151.699997, 153.240005,\n",
       "       154.529999, 155.529999, 154.690002, 154.369995, 155.710007,\n",
       "       157.410004, 157.410004, 157.380005, 158.669998, 158.960007,\n",
       "       157.589996, 157.699997, 160.619995, 158.619995, 159.029999,\n",
       "       157.580002, 160.089996, 162.089996, 161.339996, 163.279999,\n",
       "       162.130005, 163.179993, 166.169998, 167.100006, 166.5     ,\n",
       "       165.699997, 166.720001, 165.039993, 162.279999, 165.460007,\n",
       "       168.039993, 172.779999, 170.229996, 174.380005, 180.119995,\n",
       "       179.899994, 183.630005, 183.889999, 188.699997, 184.440002,\n",
       "       184.710007, 183.710007, 185.350006, 187.229996, 187.279999,\n",
       "       184.419998, 178.589996, 170.889999, 168.070007, 170.169998,\n",
       "       158.179993, 162.009995, 172.789993, 164.509995, 170.550003,\n",
       "       166.270004, 161.570007, 150.619995, 160.919998, 153.630005,\n",
       "       139.059998, 158.830002, 135.419998, 146.570007, 140.399994,\n",
       "       142.710007, 137.350006, 135.979996, 148.339996, 146.919998,\n",
       "       156.110001, 149.699997, 160.229996, 157.710007, 152.110001,\n",
       "       155.259995, 153.830002, 165.270004, 163.490005, 165.130005,\n",
       "       165.139999, 165.509995, 173.699997, 171.880005, 177.039993,\n",
       "       178.600006, 175.059998, 167.820007, 173.520004, 171.419998,\n",
       "       174.550003, 174.050003, 169.809998, 177.429993, 179.210007,\n",
       "       174.570007, 178.839996, 180.759995, 182.539993, 183.600006,\n",
       "       184.679993, 186.740005, 182.509995, 179.75    , 180.529999,\n",
       "       183.160004, 184.910004, 183.630005, 185.660004, 183.429993,\n",
       "       183.509995, 181.570007, 181.809998, 181.399994, 183.25    ,\n",
       "       182.830002, 184.910004, 185.360001, 182.919998, 187.199997,\n",
       "       188.360001, 189.800003, 196.839996, 186.270004, 187.740005,\n",
       "       188.940002, 193.570007, 194.240005, 196.320007, 195.149994,\n",
       "       200.570007, 201.910004, 197.839996, 200.339996, 196.330002,\n",
       "       198.440002, 203.509995, 204.699997, 206.259995, 210.699997,\n",
       "       208.25    , 212.830002, 214.320007, 213.669998, 207.070007,\n",
       "       208.350006, 208.039993, 203.919998, 202.880005, 211.600006,\n",
       "       208.75    , 211.75    , 202.539993, 201.300003, 203.850006,\n",
       "       202.020004, 204.059998, 203.899994, 205.009995, 216.539993,\n",
       "       213.289993, 212.940002, 216.350006, 212.479996, 208.25    ,\n",
       "       203.380005, 209.190002, 208.699997, 208.899994, 210.279999,\n",
       "       211.490005, 209.699997, 214.580002, 213.020004, 213.690002,\n",
       "       216.470001, 221.149994, 226.580002, 228.910004, 225.529999,\n",
       "       227.270004, 231.649994, 217.300003, 214.25    , 202.660004,\n",
       "       211.289993, 205.369995, 204.029999, 205.410004, 208.779999,\n",
       "       205.050003, 202.910004, 200.389999, 202.539993, 207.419998,\n",
       "       200.589996, 203.190002, 207.820007, 209.440002, 207.259995,\n",
       "       210.330002, 212.460007, 206.190002, 210.380005, 205.910004,\n",
       "       209.830002, 210.580002, 215.809998, 221.399994, 222.860001,\n",
       "       220.860001, 219.660004, 219.660004, 214.220001, 214.649994,\n",
       "       214.800003, 214.889999, 216.229996, 210.080002, 213.25    ,\n",
       "       202.679993, 204.720001, 202.470001, 202.330002, 206.429993,\n",
       "       216.389999, 223.289993, 223.720001, 218.389999, 211.009995,\n",
       "       216.550003, 215.440002, 216.509995, 217.229996, 214.460007,\n",
       "       211.080002, 212.419998, 210.389999, 210.110001, 213.860001,\n",
       "       213.869995, 215.229996, 214.070007, 216.210007, 215.369995,\n",
       "       214.240005, 214.360001, 214.289993, 216.009995, 211.800003,\n",
       "       210.520004, 213.259995, 214.199997, 214.130005, 219.279999,\n",
       "       219.419998, 218.589996, 222.589996, 223.940002, 221.020004,\n",
       "       222.75    , 224.960007, 224.149994, 221.679993, 222.419998,\n",
       "       217.690002, 217.899994, 212.25    , 218.289993, 219.619995,\n",
       "       217.490005, 214.929993, 216.339996, 213.020004, 212.649994,\n",
       "       216.440002, 224.339996, 224.970001, 225.949997, 229.529999,\n",
       "       232.330002, 232.899994, 238.929993, 231.960007, 239.649994,\n",
       "       239.509995, 243.      , 242.009995, 242.199997, 242.470001,\n",
       "       243.770004, 242.820007, 244.490005, 244.990005, 243.699997,\n",
       "       244.199997, 243.789993, 240.970001, 234.509995, 233.270004,\n",
       "       234.550003, 228.990005, 232.380005, 236.940002, 233.869995,\n",
       "       227.559998, 226.729996, 231.600006, 227.389999, 233.779999,\n",
       "       232.419998, 237.130005, 235.75    , 234.809998, 237.710007,\n",
       "       237.039993, 230.720001, 230.350006, 235.990005, 237.580002,\n",
       "       235.460007, 232.339996, 236.479996, 235.240005, 231.850006,\n",
       "       235.770004, 242.350006, 249.070007, 247.860001, 249.899994,\n",
       "       253.25    , 255.850006, 255.910004, 258.48999 , 255.589996,\n",
       "       259.5     , 260.73999 , 258.73999 , 258.26001 , 260.579987,\n",
       "       257.170013, 261.149994, 261.549988, 261.970001, 254.559998,\n",
       "       252.509995, 252.179993, 251.860001, 247.789993, 246.470001,\n",
       "       249.729996, 252.460007, 247.179993, 246.229996, 239.      ,\n",
       "       243.029999, 248.149994, 245.179993, 243.080002, 243.119995,\n",
       "       246.479996, 245.169998, 250.779999, 251.720001, 251.490005,\n",
       "       249.309998, 249.679993, 247.399994, 247.300003, 245.710007,\n",
       "       250.789993, 253.809998, 252.570007, 253.589996, 257.23999 ,\n",
       "       257.890015, 259.890015, 258.359985, 257.380005, 260.899994,\n",
       "       259.429993, 262.630005, 265.51001 , 265.269989, 266.690002,\n",
       "       265.019989, 268.720001, 271.399994, 270.899994, 271.600006,\n",
       "       277.649994, 277.660004, 279.929993, 277.420013, 277.940002,\n",
       "       277.320007, 280.980011, 282.51001 , 281.029999, 280.75    ,\n",
       "       277.01001 , 279.320007, 281.399994, 286.140015, 289.670013,\n",
       "       289.049988, 286.540009, 286.220001, 286.5     , 284.910004,\n",
       "       284.820007, 287.119995, 286.51001 , 289.519989, 289.459991,\n",
       "       288.329987, 286.440002, 286.950012, 289.809998, 292.850006,\n",
       "       294.600006, 293.079987, 290.730011, 296.769989, 304.359985,\n",
       "       304.649994, 302.619995, 302.01001 , 299.089996, 299.720001,\n",
       "       303.589996, 301.880005, 301.829987, 301.149994, 301.140015,\n",
       "       300.179993, 300.209991, 297.25    , 295.709991, 296.98999 ,\n",
       "       299.790009, 304.820007, 305.220001, 299.869995, 294.299988,\n",
       "       294.799988, 298.579987, 299.559998, 299.350006, 294.170013,\n",
       "       283.519989, 284.      , 281.920013, 289.100006, 283.109985,\n",
       "       288.76001 , 293.109985, 294.850006, 294.850006, 294.230011,\n",
       "       292.880005, 296.309998, 302.75    , 304.209991, 307.290009,\n",
       "       308.230011, 307.410004, 310.76001 , 309.160004, 308.130005,\n",
       "       310.109985, 323.170013, 324.350006, 331.619995, 329.369995,\n",
       "       333.130005, 334.      , 336.440002, 336.059998, 336.98999 ,\n",
       "       335.950012, 330.799988, 332.429993, 336.720001, 336.070007,\n",
       "       339.51001 , 339.119995, 341.269989, 343.109985, 339.829987,\n",
       "       337.679993, 337.910004, 329.679993, 336.630005, 330.589996,\n",
       "       330.079987, 329.48999 , 323.01001 , 326.190002, 334.920013,\n",
       "       334.970001, 333.100006, 342.540009, 339.399994])"
      ]
     },
     "execution_count": 57,
     "metadata": {},
     "output_type": "execute_result"
    }
   ],
   "source": [
    "all_close_values"
   ]
  },
  {
   "cell_type": "code",
   "execution_count": 58,
   "metadata": {},
   "outputs": [
    {
     "data": {
      "image/png": "[encoded data removed]",
      "text/plain": [
       "<Figure size 1152x576 with 1 Axes>"
      ]
     },
     "metadata": {
      "needs_background": "light"
     },
     "output_type": "display_data"
    }
   ],
   "source": [
    "#look_back = 7\n",
    "plt.figure(figsize=(16,8))\n",
    "plt.title('Stock Price Prediction {0} with Machine Learning LSTM Model'.format(Ticker))\n",
    "plt.xlabel('Date', fontsize=18)\n",
    "plt.ylabel('{0} Close Price'.format(Ticker), fontsize=18)\n",
    "plt.plot(all_close_values)\n",
    "plt.plot(train_predict)\n",
    "plt.plot(np.arange(len(test_predict)) + len(all_close_values_train), test_predict)\n",
    "plt.legend(['Close Price', 'Training Prediction', 'Test Prediction'], loc='lower right')\n",
    "plt.show() "
   ]
  },
  {
   "cell_type": "code",
   "execution_count": null,
   "metadata": {},
   "outputs": [],
   "source": []
  },
  {
   "cell_type": "code",
   "execution_count": 59,
   "metadata": {},
   "outputs": [],
   "source": [
    "last_count_days = all_input_values[len(all_input_values)-count_day:]"
   ]
  },
  {
   "cell_type": "code",
   "execution_count": 60,
   "metadata": {},
   "outputs": [
    {
     "data": {
      "text/plain": [
       "array([[ 3.31640015e+02,  3.35799988e+02,  3.30100006e+02,\n",
       "         3.10219000e+07,  4.03822265e-01,  2.03946916e-01,\n",
       "         6.99700000e-01],\n",
       "       [ 3.35309998e+02,  3.35500000e+02,  3.30799988e+02,\n",
       "         2.47610000e+07,  3.92918568e-01,  1.56186381e-01,\n",
       "         5.99400000e-01],\n",
       "       [ 3.34410004e+02,  3.36489990e+02,  3.32119995e+02,\n",
       "         2.22142000e+07,  3.67407751e-01,  6.56565657e-02,\n",
       "         8.50500000e-01],\n",
       "       [ 3.34980011e+02,  3.43000000e+02,  3.34790009e+02,\n",
       "         3.80773000e+07,  4.84902597e-01,  7.32177397e-02,\n",
       "         9.24600000e-01],\n",
       "       [ 3.40679993e+02,  3.43790009e+02,  3.39079987e+02,\n",
       "         2.88994000e+07,  4.69370535e-01,  2.52633038e-01,\n",
       "        -1.77900000e-01]])"
      ]
     },
     "execution_count": 60,
     "metadata": {},
     "output_type": "execute_result"
    }
   ],
   "source": [
    "last_count_days"
   ]
  },
  {
   "cell_type": "code",
   "execution_count": 61,
   "metadata": {},
   "outputs": [
    {
     "data": {
      "text/plain": [
       "(5, 7)"
      ]
     },
     "execution_count": 61,
     "metadata": {},
     "output_type": "execute_result"
    }
   ],
   "source": [
    "last_count_days.shape"
   ]
  },
  {
   "cell_type": "code",
   "execution_count": 62,
   "metadata": {},
   "outputs": [],
   "source": [
    "last_count_days= np.array(last_count_days)"
   ]
  },
  {
   "cell_type": "code",
   "execution_count": 63,
   "metadata": {},
   "outputs": [
    {
     "data": {
      "text/plain": [
       "array([[ 3.31640015e+02,  3.35799988e+02,  3.30100006e+02,\n",
       "         3.10219000e+07,  4.03822265e-01,  2.03946916e-01,\n",
       "         6.99700000e-01],\n",
       "       [ 3.35309998e+02,  3.35500000e+02,  3.30799988e+02,\n",
       "         2.47610000e+07,  3.92918568e-01,  1.56186381e-01,\n",
       "         5.99400000e-01],\n",
       "       [ 3.34410004e+02,  3.36489990e+02,  3.32119995e+02,\n",
       "         2.22142000e+07,  3.67407751e-01,  6.56565657e-02,\n",
       "         8.50500000e-01],\n",
       "       [ 3.34980011e+02,  3.43000000e+02,  3.34790009e+02,\n",
       "         3.80773000e+07,  4.84902597e-01,  7.32177397e-02,\n",
       "         9.24600000e-01],\n",
       "       [ 3.40679993e+02,  3.43790009e+02,  3.39079987e+02,\n",
       "         2.88994000e+07,  4.69370535e-01,  2.52633038e-01,\n",
       "        -1.77900000e-01]])"
      ]
     },
     "execution_count": 63,
     "metadata": {},
     "output_type": "execute_result"
    }
   ],
   "source": [
    "last_count_days"
   ]
  },
  {
   "cell_type": "code",
   "execution_count": 64,
   "metadata": {},
   "outputs": [
    {
     "data": {
      "text/plain": [
       "(5, 7)"
      ]
     },
     "execution_count": 64,
     "metadata": {},
     "output_type": "execute_result"
    }
   ],
   "source": [
    "last_count_days.shape"
   ]
  },
  {
   "cell_type": "code",
   "execution_count": 65,
   "metadata": {},
   "outputs": [],
   "source": [
    "last_count_days = np.reshape(last_count_days,(1, (last_count_days.shape[0]*last_count_days.shape[1])))"
   ]
  },
  {
   "cell_type": "code",
   "execution_count": 66,
   "metadata": {},
   "outputs": [
    {
     "data": {
      "text/plain": [
       "(1, 35)"
      ]
     },
     "execution_count": 66,
     "metadata": {},
     "output_type": "execute_result"
    }
   ],
   "source": [
    "last_count_days.shape"
   ]
  },
  {
   "cell_type": "code",
   "execution_count": 67,
   "metadata": {},
   "outputs": [],
   "source": [
    "prediction = model.predict(last_count_days)"
   ]
  },
  {
   "cell_type": "code",
   "execution_count": 68,
   "metadata": {},
   "outputs": [
    {
     "data": {
      "text/plain": [
       "array([[5.48234]], dtype=float32)"
      ]
     },
     "execution_count": 68,
     "metadata": {},
     "output_type": "execute_result"
    }
   ],
   "source": [
    "prediction"
   ]
  },
  {
   "cell_type": "code",
   "execution_count": 69,
   "metadata": {},
   "outputs": [],
   "source": [
    "prediction  = scaler2.inverse_transform(prediction)"
   ]
  },
  {
   "cell_type": "code",
   "execution_count": 70,
   "metadata": {},
   "outputs": [
    {
     "data": {
      "text/plain": [
       "array([[390.65463]], dtype=float32)"
      ]
     },
     "execution_count": 70,
     "metadata": {},
     "output_type": "execute_result"
    }
   ],
   "source": [
    "prediction"
   ]
  },
  {
   "cell_type": "code",
   "execution_count": 71,
   "metadata": {},
   "outputs": [
    {
     "data": {
      "image/png": "[encoded data removed]",
      "text/plain": [
       "<Figure size 1152x576 with 1 Axes>"
      ]
     },
     "metadata": {
      "needs_background": "light"
     },
     "output_type": "display_data"
    }
   ],
   "source": [
    "plt.figure(figsize=(16,8))\n",
    "plt.title('Stock Price Prediction TESLA with Machine Learning LSTM Model')\n",
    "plt.xlabel('Date', fontsize=18)\n",
    "plt.ylabel('Tesla Close Price', fontsize=18)\n",
    "plt.plot(all_close_values)\n",
    "plt.plot(train_predict)\n",
    "plt.plot(np.arange(len(test_predict)) + len(all_close_values_train), test_predict)\n",
    "plt.plot(len(all_input_values)+count_day, prediction, marker=\"o\", markersize=10, markeredgecolor=\"red\", markerfacecolor=\"green\")\n",
    "plt.annotate(\"Prediction\",(len(all_input_values)+count_day+10, prediction))\n",
    "plt.legend(['Close Price', 'Training Prediction', 'Test Prediction'], loc='lower right')\n",
    "plt.show() "
   ]
  },
  {
   "cell_type": "code",
   "execution_count": null,
   "metadata": {},
   "outputs": [],
   "source": []
  }
 ],
 "metadata": {
  "interpreter": {
   "hash": "1e96c48bd2f2c87de99cbbc8e8be955c5c039e1e80d25dfb77282996a6396753"
  },
  "kernelspec": {
   "display_name": "Python 3.9.7 64-bit",
   "language": "python",
   "name": "python3"
  },
  "language_info": {
   "codemirror_mode": {
    "name": "ipython",
    "version": 3
   },
   "file_extension": ".py",
   "mimetype": "text/x-python",
   "name": "python",
   "nbconvert_exporter": "python",
   "pygments_lexer": "ipython3",
   "version": "3.8.10"
  },
  "orig_nbformat": 4
 },
 "nbformat": 4,
 "nbformat_minor": 2
}
