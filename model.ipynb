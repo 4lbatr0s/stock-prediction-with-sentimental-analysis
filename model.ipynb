{
 "cells": [
  {
   "cell_type": "code",
   "execution_count": 69,
   "metadata": {},
   "outputs": [],
   "source": [
    "import pandas as pd\n",
    "import numpy as np\n",
    "from tensorflow import keras as kr\n",
    "from sklearn.preprocessing import MinMaxScaler, StandardScaler\n",
    "from tensorflow.keras.models import Sequential;\n",
    "from tensorflow.keras.layers import Dense, Dropout, Flatten\n",
    "from keras.layers import LSTM\n",
    "from sklearn.metrics import mean_squared_error, mean_absolute_percentage_error\n",
    "import matplotlib.pyplot as plt"
   ]
  },
  {
   "cell_type": "code",
   "execution_count": 70,
   "metadata": {},
   "outputs": [],
   "source": [
    "merged_data = pd.read_excel(\"final_data.xlsx\")"
   ]
  },
  {
   "cell_type": "code",
   "execution_count": 71,
   "metadata": {},
   "outputs": [],
   "source": [
    "keep_columns=['Open','High','Low','Volume','Subjectivity','Polarity','Compound']    "
   ]
  },
  {
   "cell_type": "code",
   "execution_count": 72,
   "metadata": {},
   "outputs": [],
   "source": [
    "all_input_values=merged_data[keep_columns].values #numpy array."
   ]
  },
  {
   "cell_type": "code",
   "execution_count": 73,
   "metadata": {},
   "outputs": [
    {
     "name": "stdout",
     "output_type": "stream",
     "text": [
      "741\n",
      "-------------\n",
      "[[3.06100006e+02 3.15130005e+02 2.98799988e+02 1.16586480e+07\n",
      "  5.00000000e-01 0.00000000e+00 0.00000000e+00]\n",
      " [3.07000000e+02 3.09399994e+02 2.97380005e+02 6.96518400e+06\n",
      "  5.00000000e-01 0.00000000e+00 0.00000000e+00]\n",
      " [3.06000000e+02 3.18000000e+02 3.02730011e+02 7.39411600e+06\n",
      "  5.00000000e-01 0.00000000e+00 0.00000000e+00]\n",
      " [3.21720001e+02 3.36739990e+02 3.17750793e+02 7.55122500e+06\n",
      "  5.00000000e-01 0.00000000e+00 0.00000000e+00]\n",
      " [3.41959991e+02 3.44010010e+02 3.27019989e+02 7.00851600e+06\n",
      "  5.00000000e-01 0.00000000e+00 0.00000000e+00]]\n",
      "-------------\n",
      "[[3.07000000e+02 3.09399994e+02 2.97380005e+02 6.96518400e+06\n",
      "  5.00000000e-01 0.00000000e+00 0.00000000e+00]\n",
      " [3.06000000e+02 3.18000000e+02 3.02730011e+02 7.39411600e+06\n",
      "  5.00000000e-01 0.00000000e+00 0.00000000e+00]\n",
      " [3.21720001e+02 3.36739990e+02 3.17750793e+02 7.55122500e+06\n",
      "  5.00000000e-01 0.00000000e+00 0.00000000e+00]\n",
      " [3.41959991e+02 3.44010010e+02 3.27019989e+02 7.00851600e+06\n",
      "  5.00000000e-01 0.00000000e+00 0.00000000e+00]\n",
      " [3.35500000e+02 3.43502502e+02 3.31470001e+02 5.43294500e+06\n",
      "  5.00000000e-01 0.00000000e+00 0.00000000e+00]]\n"
     ]
    }
   ],
   "source": [
    "model_input=[]\n",
    "count_day=5\n",
    "pred_day_count=1\n",
    "\n",
    "j=0\n",
    "temp=[]\n",
    "for i in range(0,len(all_input_values)-count_day):\n",
    "    temp=all_input_values[i:i+count_day]    \n",
    "    model_input.append(temp)\n",
    "\n",
    "\n",
    "print(len(model_input))  \n",
    "print(\"-------------\")\n",
    "print(model_input[1])\n",
    "print(\"-------------\")\n",
    "print(model_input[2])"
   ]
  },
  {
   "cell_type": "code",
   "execution_count": 74,
   "metadata": {},
   "outputs": [
    {
     "name": "stdout",
     "output_type": "stream",
     "text": [
      "(741, 5, 7)\n"
     ]
    }
   ],
   "source": [
    "model_input=np.array(model_input)\n",
    "print(model_input.shape)"
   ]
  },
  {
   "cell_type": "code",
   "execution_count": 75,
   "metadata": {},
   "outputs": [],
   "source": [
    "all_close_values = merged_data['Close'].values"
   ]
  },
  {
   "cell_type": "code",
   "execution_count": 76,
   "metadata": {},
   "outputs": [],
   "source": [
    "model_close_values=[]\n",
    "for i in range(count_day,len(all_close_values)):\n",
    "    model_close_values.append(all_close_values[i])"
   ]
  },
  {
   "cell_type": "code",
   "execution_count": 77,
   "metadata": {},
   "outputs": [
    {
     "name": "stdout",
     "output_type": "stream",
     "text": [
      "(741,)\n",
      "(741, 5, 7)\n"
     ]
    }
   ],
   "source": [
    "model_close_values=np.array(model_close_values)\n",
    "print(model_close_values.shape)\n",
    "\n",
    "print(model_input.shape)"
   ]
  },
  {
   "cell_type": "code",
   "execution_count": 78,
   "metadata": {},
   "outputs": [
    {
     "data": {
      "text/plain": [
       "5"
      ]
     },
     "execution_count": 78,
     "metadata": {},
     "output_type": "execute_result"
    }
   ],
   "source": [
    "count_day"
   ]
  },
  {
   "cell_type": "code",
   "execution_count": 79,
   "metadata": {},
   "outputs": [],
   "source": [
    "training_size=int(len(model_input)*0.75)\n",
    "test_size=len(model_input)-training_size\n",
    "all_input_values_train, all_input_values_test=model_input[0:training_size,:],model_input[training_size:len(model_input),:]\n",
    "\n",
    "training_size=int(len(model_close_values)*0.75)\n",
    "all_close_values_train, all_close_values_test = model_close_values[0:training_size], model_close_values[training_size:len(model_close_values)]"
   ]
  },
  {
   "cell_type": "code",
   "execution_count": 80,
   "metadata": {},
   "outputs": [
    {
     "data": {
      "text/plain": [
       "array([335.350006, 338.529999, 344.970001, 347.26001 , 334.399994])"
      ]
     },
     "execution_count": 80,
     "metadata": {},
     "output_type": "execute_result"
    }
   ],
   "source": [
    "all_close_values_train[0:count_day]"
   ]
  },
  {
   "cell_type": "code",
   "execution_count": 81,
   "metadata": {},
   "outputs": [],
   "source": [
    "all_close_values_train=np.array(all_close_values_train)\n",
    "all_close_values_test=np.array(all_close_values_test)"
   ]
  },
  {
   "cell_type": "code",
   "execution_count": 82,
   "metadata": {},
   "outputs": [
    {
     "data": {
      "text/plain": [
       "array([[[3.37790009e+02, 3.39209991e+02, 3.25260010e+02, 6.30233800e+06,\n",
       "         5.00000000e-01, 0.00000000e+00, 0.00000000e+00],\n",
       "        [3.06100006e+02, 3.15130005e+02, 2.98799988e+02, 1.16586480e+07,\n",
       "         5.00000000e-01, 0.00000000e+00, 0.00000000e+00],\n",
       "        [3.07000000e+02, 3.09399994e+02, 2.97380005e+02, 6.96518400e+06,\n",
       "         5.00000000e-01, 0.00000000e+00, 0.00000000e+00],\n",
       "        [3.06000000e+02, 3.18000000e+02, 3.02730011e+02, 7.39411600e+06,\n",
       "         5.00000000e-01, 0.00000000e+00, 0.00000000e+00],\n",
       "        [3.21720001e+02, 3.36739990e+02, 3.17750793e+02, 7.55122500e+06,\n",
       "         5.00000000e-01, 0.00000000e+00, 0.00000000e+00]],\n",
       "\n",
       "       [[3.06100006e+02, 3.15130005e+02, 2.98799988e+02, 1.16586480e+07,\n",
       "         5.00000000e-01, 0.00000000e+00, 0.00000000e+00],\n",
       "        [3.07000000e+02, 3.09399994e+02, 2.97380005e+02, 6.96518400e+06,\n",
       "         5.00000000e-01, 0.00000000e+00, 0.00000000e+00],\n",
       "        [3.06000000e+02, 3.18000000e+02, 3.02730011e+02, 7.39411600e+06,\n",
       "         5.00000000e-01, 0.00000000e+00, 0.00000000e+00],\n",
       "        [3.21720001e+02, 3.36739990e+02, 3.17750793e+02, 7.55122500e+06,\n",
       "         5.00000000e-01, 0.00000000e+00, 0.00000000e+00],\n",
       "        [3.41959991e+02, 3.44010010e+02, 3.27019989e+02, 7.00851600e+06,\n",
       "         5.00000000e-01, 0.00000000e+00, 0.00000000e+00]]])"
      ]
     },
     "execution_count": 82,
     "metadata": {},
     "output_type": "execute_result"
    }
   ],
   "source": [
    "all_input_values_train[0:2]"
   ]
  },
  {
   "cell_type": "code",
   "execution_count": 83,
   "metadata": {},
   "outputs": [
    {
     "name": "stdout",
     "output_type": "stream",
     "text": [
      "(555, 5, 7) (186, 5, 7) (555,) (186,)\n"
     ]
    }
   ],
   "source": [
    "print(all_input_values_train.shape, all_input_values_test.shape, all_close_values_train.shape, all_close_values_test.shape)"
   ]
  },
  {
   "cell_type": "code",
   "execution_count": 84,
   "metadata": {},
   "outputs": [
    {
     "data": {
      "text/plain": [
       "(555,)"
      ]
     },
     "execution_count": 84,
     "metadata": {},
     "output_type": "execute_result"
    }
   ],
   "source": [
    "all_close_values_train.shape"
   ]
  },
  {
   "cell_type": "code",
   "execution_count": 85,
   "metadata": {},
   "outputs": [
    {
     "name": "stdout",
     "output_type": "stream",
     "text": [
      "(555, 35)\n"
     ]
    }
   ],
   "source": [
    "all_input_values_train=np.reshape(all_input_values_train,(all_input_values_train.shape[0],all_input_values_train.shape[1]*all_input_values_train.shape[2]))\n",
    "print(all_input_values_train.shape)"
   ]
  },
  {
   "cell_type": "code",
   "execution_count": 86,
   "metadata": {},
   "outputs": [
    {
     "name": "stdout",
     "output_type": "stream",
     "text": [
      "(186, 35)\n"
     ]
    }
   ],
   "source": [
    "all_input_values_test=np.reshape(all_input_values_test,(all_input_values_test.shape[0], all_input_values_test.shape[1]*all_input_values_test.shape[2]))\n",
    "print(all_input_values_test.shape)"
   ]
  },
  {
   "cell_type": "code",
   "execution_count": 87,
   "metadata": {},
   "outputs": [],
   "source": [
    "#scaling\n",
    "scaler = MinMaxScaler(feature_range=(0,1))\n",
    "all_input_values_train=scaler.fit_transform(all_input_values_train) # hem fit ediyor hem de scale ediyor\n",
    "all_input_values_test=scaler.transform(all_input_values_test) # sadece transform olacak. cünkü model bu veriyi eğitim esnasında görmeyecek \n"
   ]
  },
  {
   "cell_type": "code",
   "execution_count": 88,
   "metadata": {},
   "outputs": [],
   "source": [
    "all_close_values_train = np.array([all_close_values_train]).T\n",
    "all_close_values_test = np.array([all_close_values_test]).T"
   ]
  },
  {
   "cell_type": "code",
   "execution_count": 89,
   "metadata": {},
   "outputs": [
    {
     "name": "stdout",
     "output_type": "stream",
     "text": [
      "(555, 35) (186, 35) (555, 1) (186, 1)\n"
     ]
    }
   ],
   "source": [
    "print(all_input_values_train.shape, all_input_values_test.shape, all_close_values_train.shape, all_close_values_test.shape)"
   ]
  },
  {
   "cell_type": "code",
   "execution_count": 90,
   "metadata": {},
   "outputs": [],
   "source": [
    "scaler2 = StandardScaler()\n",
    "all_close_values_train = scaler2.fit_transform(all_close_values_train)\n",
    "all_close_values_test = scaler2.transform(all_close_values_test)"
   ]
  },
  {
   "cell_type": "code",
   "execution_count": 91,
   "metadata": {},
   "outputs": [
    {
     "data": {
      "text/plain": [
       "array([[1.57033681],\n",
       "       [1.40670355],\n",
       "       [1.45863112],\n",
       "       [1.34738705],\n",
       "       [1.30931343],\n",
       "       [1.43415526],\n",
       "       [1.59994385],\n",
       "       [1.56823316],\n",
       "       [1.71857683],\n",
       "       [1.72150165],\n",
       "       [1.61554254],\n",
       "       [1.68137574],\n",
       "       [1.64658647],\n",
       "       [1.77466065],\n",
       "       [2.08427652],\n",
       "       [1.92987901],\n",
       "       [1.96384744],\n",
       "       [1.96861971],\n",
       "       [1.83957028],\n",
       "       [1.86194217],\n",
       "       [1.99088888],\n",
       "       [1.86553406],\n",
       "       [1.91535798],\n",
       "       [1.96051235],\n",
       "       [1.78882277],\n",
       "       [1.73576649],\n",
       "       [1.64648374],\n",
       "       [1.81293941],\n",
       "       [1.68702023],\n",
       "       [1.62903759],\n",
       "       [1.61538877],\n",
       "       [1.57741787],\n",
       "       [1.62272633],\n",
       "       [1.40039197],\n",
       "       [1.33963891],\n",
       "       [1.19950625],\n",
       "       [1.10611861],\n",
       "       [1.19873644],\n",
       "       [1.13249298],\n",
       "       [1.1378293 ],\n",
       "       [1.06388905],\n",
       "       [1.18354833],\n",
       "       [1.15327422],\n",
       "       [1.2844273 ],\n",
       "       [1.27544773],\n",
       "       [1.34954206],\n",
       "       [1.40967941],\n",
       "       [1.38079081],\n",
       "       [1.37401791],\n",
       "       [1.2776541 ],\n",
       "       [1.1120196 ],\n",
       "       [1.24650777],\n",
       "       [1.27770547],\n",
       "       [1.26980355],\n",
       "       [1.24512256],\n",
       "       [1.30331003],\n",
       "       [1.30212996],\n",
       "       [1.34215314],\n",
       "       [1.24809842],\n",
       "       [1.27637131],\n",
       "       [1.33656001],\n",
       "       [1.37099038],\n",
       "       [1.35826514],\n",
       "       [1.37304298],\n",
       "       [1.54165366],\n",
       "       [1.66095372],\n",
       "       [1.62016073],\n",
       "       [1.70662108],\n",
       "       [1.66577705],\n",
       "       [1.660338  ],\n",
       "       [1.65120434],\n",
       "       [1.65623312],\n",
       "       [1.55709858],\n",
       "       [1.48049001],\n",
       "       [1.52236035],\n",
       "       [1.54360353],\n",
       "       [1.69112512],\n",
       "       [1.6030738 ],\n",
       "       [1.52528516],\n",
       "       [1.51102032],\n",
       "       [1.47828333],\n",
       "       [1.4885457 ],\n",
       "       [1.56181918],\n",
       "       [1.53508559],\n",
       "       [1.50414471],\n",
       "       [1.47397331],\n",
       "       [1.54704134],\n",
       "       [1.48115709],\n",
       "       [1.49244545],\n",
       "       [1.64827953],\n",
       "       [1.69882189],\n",
       "       [1.81411948],\n",
       "       [1.8144787 ],\n",
       "       [1.82053346],\n",
       "       [1.83957028],\n",
       "       [1.75988282],\n",
       "       [1.83510617],\n",
       "       [1.8157615 ],\n",
       "       [1.80462691],\n",
       "       [1.87866988],\n",
       "       [1.85260337],\n",
       "       [1.69353662],\n",
       "       [1.58855277],\n",
       "       [1.7080066 ],\n",
       "       [1.62837051],\n",
       "       [1.66321146],\n",
       "       [1.79682741],\n",
       "       [1.80806472],\n",
       "       [1.82197034],\n",
       "       [1.77045304],\n",
       "       [1.82566465],\n",
       "       [1.92310581],\n",
       "       [1.9477868 ],\n",
       "       [1.93942326],\n",
       "       [1.93070018],\n",
       "       [1.93675494],\n",
       "       [2.03604325],\n",
       "       [2.04091794],\n",
       "       [2.04599776],\n",
       "       [1.95060921],\n",
       "       [1.98514198],\n",
       "       [1.9927874 ],\n",
       "       [2.05097518],\n",
       "       [2.05692722],\n",
       "       [2.06975518],\n",
       "       [1.91930878],\n",
       "       [1.96656712],\n",
       "       [2.03101479],\n",
       "       [2.03973787],\n",
       "       [2.14620997],\n",
       "       [2.23328603],\n",
       "       [2.16247574],\n",
       "       [2.18171769],\n",
       "       [2.15180278],\n",
       "       [2.15046863],\n",
       "       [2.18284671],\n",
       "       [2.17802338],\n",
       "       [2.1891066 ],\n",
       "       [2.2448312 ],\n",
       "       [2.203166  ],\n",
       "       [2.23626221],\n",
       "       [2.30696979],\n",
       "       [2.33447318],\n",
       "       [2.37162291],\n",
       "       [2.49841461],\n",
       "       [2.63736689],\n",
       "       [2.60740095],\n",
       "       [2.6152515 ],\n",
       "       [2.75995099],\n",
       "       [2.84040794],\n",
       "       [3.43141784],\n",
       "       [3.39842436],\n",
       "       [3.49812325],\n",
       "       [3.69916338],\n",
       "       [3.88881179],\n",
       "       [4.37417045],\n",
       "       [4.18642055],\n",
       "       [4.4012119 ],\n",
       "       [4.48356768],\n",
       "       [4.44344146],\n",
       "       [4.13993171],\n",
       "       [3.42443951],\n",
       "       [3.65252045],\n",
       "       [3.62973829],\n",
       "       [3.47534109],\n",
       "       [3.3725633 ],\n",
       "       [3.58468633],\n",
       "       [3.76058352],\n",
       "       [3.79840033],\n",
       "       [4.00713723],\n",
       "       [4.10878569],\n",
       "       [3.86330995],\n",
       "       [3.89907417],\n",
       "       [3.72420359],\n",
       "       [4.0067777 ],\n",
       "       [4.04664711],\n",
       "       [3.79131927],\n",
       "       [3.73795482],\n",
       "       [3.38067035],\n",
       "       [3.35008868],\n",
       "       [3.5693955 ],\n",
       "       [3.657703  ],\n",
       "       [3.32335509],\n",
       "       [3.39124089],\n",
       "       [3.13149999],\n",
       "       [3.09096382]])"
      ]
     },
     "execution_count": 91,
     "metadata": {},
     "output_type": "execute_result"
    }
   ],
   "source": [
    "all_close_values_test"
   ]
  },
  {
   "cell_type": "code",
   "execution_count": null,
   "metadata": {},
   "outputs": [],
   "source": []
  },
  {
   "cell_type": "code",
   "execution_count": 92,
   "metadata": {},
   "outputs": [
    {
     "data": {
      "text/plain": [
       "(186, 1)"
      ]
     },
     "execution_count": 92,
     "metadata": {},
     "output_type": "execute_result"
    }
   ],
   "source": [
    "all_close_values_test.shape"
   ]
  },
  {
   "cell_type": "code",
   "execution_count": 93,
   "metadata": {},
   "outputs": [
    {
     "data": {
      "text/plain": [
       "(555, 35)"
      ]
     },
     "execution_count": 93,
     "metadata": {},
     "output_type": "execute_result"
    }
   ],
   "source": [
    "all_input_values_train.shape"
   ]
  },
  {
   "cell_type": "code",
   "execution_count": 94,
   "metadata": {},
   "outputs": [
    {
     "data": {
      "text/plain": [
       "(186, 35)"
      ]
     },
     "execution_count": 94,
     "metadata": {},
     "output_type": "execute_result"
    }
   ],
   "source": [
    "all_input_values_test.shape"
   ]
  },
  {
   "cell_type": "code",
   "execution_count": 95,
   "metadata": {},
   "outputs": [],
   "source": [
    "# Taban model ile ana model birleştirilir. \n",
    "\n",
    "model=Sequential()\n",
    "model.add(LSTM(units = 50, input_shape = (all_input_values_train.shape[1],1), return_sequences=True))\n",
    "model.add(LSTM(units=50))\n",
    "# model.add(LSTM(units=50,return_sequences=True))\n",
    "# model.add(LSTM(units=50))\n",
    "model.add(Flatten())\n",
    "model.add(Dense(units = 128))\n",
    "model.add(Dropout(0.2))\n",
    "model.add(Dense(units = 1))"
   ]
  },
  {
   "cell_type": "code",
   "execution_count": 96,
   "metadata": {},
   "outputs": [],
   "source": [
    "# model = model(inputs=baseModel.input, outputs=headModel)"
   ]
  },
  {
   "cell_type": "code",
   "execution_count": 97,
   "metadata": {},
   "outputs": [
    {
     "name": "stderr",
     "output_type": "stream",
     "text": [
      "/home/serhatoner/.local/lib/python3.8/site-packages/keras/optimizer_v2/adam.py:105: UserWarning: The `lr` argument is deprecated, use `learning_rate` instead.\n",
      "  super(Adam, self).__init__(name, **kwargs)\n"
     ]
    }
   ],
   "source": [
    "opt = kr.optimizers.Adam(lr=0.001, decay=1e-4)"
   ]
  },
  {
   "cell_type": "code",
   "execution_count": 98,
   "metadata": {},
   "outputs": [],
   "source": [
    "model.compile(optimizer=opt, loss='mean_squared_error') #learning rate atanabilir."
   ]
  },
  {
   "cell_type": "code",
   "execution_count": 99,
   "metadata": {},
   "outputs": [
    {
     "data": {
      "text/plain": [
       "numpy.ndarray"
      ]
     },
     "execution_count": 99,
     "metadata": {},
     "output_type": "execute_result"
    }
   ],
   "source": [
    "type(all_input_values_train)"
   ]
  },
  {
   "cell_type": "code",
   "execution_count": 100,
   "metadata": {},
   "outputs": [
    {
     "name": "stdout",
     "output_type": "stream",
     "text": [
      "Epoch 1/25\n",
      "35/35 [==============================] - 7s 42ms/step - loss: 0.5746\n",
      "Epoch 2/25\n",
      "35/35 [==============================] - 2s 48ms/step - loss: 0.1246\n",
      "Epoch 3/25\n",
      "35/35 [==============================] - 2s 49ms/step - loss: 0.1317\n",
      "Epoch 4/25\n",
      "35/35 [==============================] - 2s 48ms/step - loss: 0.1294\n",
      "Epoch 5/25\n",
      "35/35 [==============================] - 2s 48ms/step - loss: 0.1068\n",
      "Epoch 6/25\n",
      "35/35 [==============================] - 2s 51ms/step - loss: 0.1005\n",
      "Epoch 7/25\n",
      "35/35 [==============================] - 2s 49ms/step - loss: 0.1083\n",
      "Epoch 8/25\n",
      "35/35 [==============================] - 2s 55ms/step - loss: 0.1130\n",
      "Epoch 9/25\n",
      "35/35 [==============================] - 2s 42ms/step - loss: 0.1118\n",
      "Epoch 10/25\n",
      "35/35 [==============================] - 1s 39ms/step - loss: 0.1029\n",
      "Epoch 11/25\n",
      "35/35 [==============================] - 2s 46ms/step - loss: 0.0996\n",
      "Epoch 12/25\n",
      "35/35 [==============================] - 1s 42ms/step - loss: 0.0950\n",
      "Epoch 13/25\n",
      "35/35 [==============================] - 1s 43ms/step - loss: 0.1028\n",
      "Epoch 14/25\n",
      "35/35 [==============================] - 1s 42ms/step - loss: 0.0924\n",
      "Epoch 15/25\n",
      "35/35 [==============================] - 1s 39ms/step - loss: 0.0957\n",
      "Epoch 16/25\n",
      "35/35 [==============================] - 1s 41ms/step - loss: 0.0917\n",
      "Epoch 17/25\n",
      "35/35 [==============================] - 1s 38ms/step - loss: 0.1021\n",
      "Epoch 18/25\n",
      "35/35 [==============================] - 1s 36ms/step - loss: 0.1003\n",
      "Epoch 19/25\n",
      "35/35 [==============================] - 1s 36ms/step - loss: 0.0856\n",
      "Epoch 20/25\n",
      "35/35 [==============================] - 1s 35ms/step - loss: 0.0941\n",
      "Epoch 21/25\n",
      "35/35 [==============================] - 1s 35ms/step - loss: 0.0903\n",
      "Epoch 22/25\n",
      "35/35 [==============================] - 1s 36ms/step - loss: 0.0835\n",
      "Epoch 23/25\n",
      "35/35 [==============================] - 1s 35ms/step - loss: 0.0770\n",
      "Epoch 24/25\n",
      "35/35 [==============================] - 1s 35ms/step - loss: 0.0781\n",
      "Epoch 25/25\n",
      "35/35 [==============================] - 1s 36ms/step - loss: 0.0713\n"
     ]
    },
    {
     "data": {
      "text/plain": [
       "<keras.callbacks.History at 0x7f1e1d3e9c10>"
      ]
     },
     "execution_count": 100,
     "metadata": {},
     "output_type": "execute_result"
    }
   ],
   "source": [
    "model.fit(all_input_values_train, all_close_values_train, epochs=15,batch_size=16,verbose=1)"
   ]
  },
  {
   "cell_type": "code",
   "execution_count": 101,
   "metadata": {},
   "outputs": [
    {
     "name": "stdout",
     "output_type": "stream",
     "text": [
      "all_close_values_train shape:  (555, 1)\n",
      "all_close_values_test shape:  (186, 1)\n",
      "all_close_values_test_pred shape:  (186, 1)\n",
      "all_close_values_test_pred shape:  (186, 1)\n"
     ]
    }
   ],
   "source": [
    "train_predict=model.predict(all_input_values_train)\n",
    "test_predict=model.predict(all_input_values_test)\n",
    "\n",
    "#train_predict = train_predict.reshape((train_predict.shape[0],5,1))\n",
    "#test_predict = test_predict.reshape((test_predict.shape[0],5,1))\n",
    "\n",
    "# print('all_close_values_train shape: ', all_close_values_train.shape, '\\nall_close_values_train', all_close_values_train[0:5], '\\n')\n",
    "# print('all_close_values_train_predict shape: ', train_predict.shape, '\\nall_close_values_train_pred', train_predict[0:5], '\\n')\n",
    "# print('all_close_values_test shape: ', all_close_values_test.shape, '\\nall_close_values_test', all_close_values_test[0:5], '\\n')\n",
    "# print('all_close_values_test_pred shape: ', test_predict.shape, '\\nall_close_values_test_pred', test_predict[0:5])\n",
    "\n",
    "print('all_close_values_train shape: ', all_close_values_train.shape)\n",
    "\n",
    "print('all_close_values_test shape: ', all_close_values_test.shape)\n",
    "print('all_close_values_test_pred shape: ', test_predict.shape)\n",
    "print('all_close_values_test_pred shape: ', test_predict.shape)\n"
   ]
  },
  {
   "cell_type": "code",
   "execution_count": 102,
   "metadata": {},
   "outputs": [
    {
     "data": {
      "text/plain": [
       "array([1.439861], dtype=float32)"
      ]
     },
     "execution_count": 102,
     "metadata": {},
     "output_type": "execute_result"
    }
   ],
   "source": [
    "test_predict[0]"
   ]
  },
  {
   "cell_type": "code",
   "execution_count": 103,
   "metadata": {},
   "outputs": [
    {
     "name": "stdout",
     "output_type": "stream",
     "text": [
      "6/6 [==============================] - 1s 14ms/step - loss: 0.3693\n"
     ]
    }
   ],
   "source": [
    "score = model.evaluate(all_input_values_test, all_close_values_test)"
   ]
  },
  {
   "cell_type": "code",
   "execution_count": 104,
   "metadata": {},
   "outputs": [
    {
     "name": "stdout",
     "output_type": "stream",
     "text": [
      "18/18 [==============================] - 0s 14ms/step - loss: 0.0717\n"
     ]
    },
    {
     "data": {
      "text/plain": [
       "0.07173318415880203"
      ]
     },
     "execution_count": 104,
     "metadata": {},
     "output_type": "execute_result"
    }
   ],
   "source": [
    "model.evaluate(all_input_values_train, all_close_values_train)"
   ]
  },
  {
   "cell_type": "code",
   "execution_count": 105,
   "metadata": {},
   "outputs": [
    {
     "data": {
      "text/plain": [
       "0.36933743953704834"
      ]
     },
     "execution_count": 105,
     "metadata": {},
     "output_type": "execute_result"
    }
   ],
   "source": [
    "score"
   ]
  },
  {
   "cell_type": "code",
   "execution_count": 106,
   "metadata": {},
   "outputs": [],
   "source": [
    "# test_predict = test_predict.reshape((test_predict.shape[0],5))"
   ]
  },
  {
   "cell_type": "code",
   "execution_count": 107,
   "metadata": {},
   "outputs": [],
   "source": [
    "# train_predict = train_predict.reshape((train_predict.shape[0],5))"
   ]
  },
  {
   "cell_type": "code",
   "execution_count": null,
   "metadata": {},
   "outputs": [],
   "source": []
  },
  {
   "cell_type": "code",
   "execution_count": 108,
   "metadata": {},
   "outputs": [],
   "source": [
    "test_predict = scaler2.inverse_transform(test_predict)\n",
    "train_predict = scaler2.inverse_transform(train_predict)"
   ]
  },
  {
   "cell_type": "code",
   "execution_count": 109,
   "metadata": {},
   "outputs": [
    {
     "data": {
      "text/plain": [
       "(555, 1)"
      ]
     },
     "execution_count": 109,
     "metadata": {},
     "output_type": "execute_result"
    }
   ],
   "source": [
    "train_predict.shape"
   ]
  },
  {
   "cell_type": "code",
   "execution_count": 110,
   "metadata": {},
   "outputs": [],
   "source": [
    "#test_predict=test_predict.reshape((test_predict.shape[0]*test_predict.shape[1],1))"
   ]
  },
  {
   "cell_type": "code",
   "execution_count": 111,
   "metadata": {},
   "outputs": [
    {
     "data": {
      "text/plain": [
       "(186, 1)"
      ]
     },
     "execution_count": 111,
     "metadata": {},
     "output_type": "execute_result"
    }
   ],
   "source": [
    "test_predict.shape"
   ]
  },
  {
   "cell_type": "code",
   "execution_count": 112,
   "metadata": {},
   "outputs": [],
   "source": [
    "# train_predict = np.array(train_predict).T\n",
    "# test_predict = np.array(test_predict).T"
   ]
  },
  {
   "cell_type": "code",
   "execution_count": 113,
   "metadata": {},
   "outputs": [
    {
     "name": "stdout",
     "output_type": "stream",
     "text": [
      "(186, 1)\n"
     ]
    }
   ],
   "source": [
    "all_close_values_test=np.array(all_close_values_test)\n",
    "print(all_close_values_test.shape)"
   ]
  },
  {
   "cell_type": "code",
   "execution_count": 114,
   "metadata": {},
   "outputs": [
    {
     "data": {
      "text/plain": [
       "(186, 1)"
      ]
     },
     "execution_count": 114,
     "metadata": {},
     "output_type": "execute_result"
    }
   ],
   "source": [
    "test_predict.shape"
   ]
  },
  {
   "cell_type": "code",
   "execution_count": 115,
   "metadata": {},
   "outputs": [],
   "source": [
    "all_close_values_train = scaler2.inverse_transform(all_close_values_train)\n",
    "all_close_values_test = scaler2.inverse_transform(all_close_values_test)"
   ]
  },
  {
   "cell_type": "code",
   "execution_count": 116,
   "metadata": {},
   "outputs": [
    {
     "data": {
      "text/plain": [
       "(186, 1)"
      ]
     },
     "execution_count": 116,
     "metadata": {},
     "output_type": "execute_result"
    }
   ],
   "source": [
    "all_close_values_test.shape"
   ]
  },
  {
   "cell_type": "code",
   "execution_count": 117,
   "metadata": {},
   "outputs": [
    {
     "name": "stdout",
     "output_type": "stream",
     "text": [
      "0.10861049203054816\n",
      "0.13871137634576686\n"
     ]
    }
   ],
   "source": [
    "mape_test = mean_absolute_percentage_error(all_close_values_test, test_predict)\n",
    "mape_train = mean_absolute_percentage_error(all_close_values_train, train_predict)\n",
    "print(mape_test)\n",
    "print(mape_train)"
   ]
  },
  {
   "cell_type": "code",
   "execution_count": 118,
   "metadata": {},
   "outputs": [
    {
     "name": "stdout",
     "output_type": "stream",
     "text": [
      "118.43878719129684\n"
     ]
    }
   ],
   "source": [
    "rmse = np.sqrt(mean_squared_error(all_close_values_test, test_predict)) #neden yüksek çıkıyor, mape ile karşılastır tekrar bak\n",
    "print(rmse)"
   ]
  },
  {
   "cell_type": "code",
   "execution_count": 119,
   "metadata": {},
   "outputs": [
    {
     "data": {
      "text/plain": [
       "(555, 1)"
      ]
     },
     "execution_count": 119,
     "metadata": {},
     "output_type": "execute_result"
    }
   ],
   "source": [
    "train_predict=np.array(train_predict)\n",
    "train_predict.shape"
   ]
  },
  {
   "cell_type": "code",
   "execution_count": 120,
   "metadata": {},
   "outputs": [
    {
     "data": {
      "text/plain": [
       "array([299.31134], dtype=float32)"
      ]
     },
     "execution_count": 120,
     "metadata": {},
     "output_type": "execute_result"
    }
   ],
   "source": [
    "test=all_close_values[count_day:]\n",
    "train_predict[1]"
   ]
  },
  {
   "cell_type": "code",
   "execution_count": 121,
   "metadata": {},
   "outputs": [
    {
     "data": {
      "text/plain": [
       "array([ 335.350006,  338.529999,  344.970001,  347.26001 ,  334.399994,\n",
       "        344.429993,  346.049988,  347.309998,  302.26001 ,  298.920013,\n",
       "        287.589996,  291.51001 ,  297.040009,  296.380005,  297.459991,\n",
       "        308.769989,  307.019989,  312.209991,  312.890015,  321.350006,\n",
       "        317.220001,  307.51001 ,  305.799988,  312.839996,  311.809998,\n",
       "        308.170013,  303.769989,  307.880005,  305.640015,  302.559998,\n",
       "        291.230011,  294.709991,  298.769989,  297.859985,  314.73999 ,\n",
       "        319.880005,  294.790009,  285.359985,  276.540009,  276.23999 ,\n",
       "        276.589996,  284.140015,  290.920013,  283.359985,  288.959991,\n",
       "        289.959991,  275.429993,  269.48999 ,  267.470001,  273.600006,\n",
       "        274.019989,  264.529999,  260.420013,  267.769989,  274.829987,\n",
       "        278.619995,  279.859985,  289.179993,  285.880005,  291.809998,\n",
       "        267.779999,  274.959991,  273.200012,  272.309998,  276.059998,\n",
       "        268.420013,  267.700012,  266.380005,  273.359985,  271.230011,\n",
       "        273.26001 ,  262.75    ,  263.899994,  258.660004,  247.630005,\n",
       "        235.139999,  241.470001,  238.690002,  234.009995,  244.100006,\n",
       "        255.029999,  255.339996,  247.059998,  244.839996,  241.979996,\n",
       "        239.520004,  227.009995,  232.309998,  231.949997,  228.330002,\n",
       "        211.029999,  205.360001,  205.080002,  192.729996,  195.490005,\n",
       "        190.630005,  188.699997,  189.860001,  188.220001,  185.160004,\n",
       "        178.970001,  193.600006,  196.589996,  205.949997,  204.5     ,\n",
       "        212.880005,  217.100006,  209.259995,  213.910004,  214.919998,\n",
       "        225.029999,  224.740005,  226.429993,  219.619995,  221.860001,\n",
       "        223.639999,  219.759995,  219.270004,  222.839996,  223.460007,\n",
       "        227.169998,  224.550003,  234.899994,  233.100006,  230.339996,\n",
       "        230.059998,  238.919998,  238.600006,  245.080002,  253.5     ,\n",
       "        252.380005,  254.860001,  253.539993,  258.179993,  255.679993,\n",
       "        260.170013,  264.880005,  228.820007,  228.039993,  235.770004,\n",
       "        242.259995,  241.610001,  233.850006,  234.339996,  228.320007,\n",
       "        230.75    ,  233.419998,  238.300003,  235.009995,  229.009995,\n",
       "        235.      ,  219.619995,  215.639999,  219.940002,  226.830002,\n",
       "        225.860001,  220.830002,  222.149994,  211.399994,  215.      ,\n",
       "        214.080002,  215.589996,  221.710007,  225.610001,  225.009995,\n",
       "        220.679993,  229.580002,  227.449997,  231.789993,  235.539993,\n",
       "        247.100006,  245.869995,  245.199997,  242.809998,  244.789993,\n",
       "        243.490005,  246.600006,  240.619995,  241.229996,  223.210007,\n",
       "        228.699997,  242.559998,  242.130005,  240.869995,  244.690002,\n",
       "        243.130005,  233.029999,  231.429993,  237.720001,  240.050003,\n",
       "        244.529999,  244.740005,  247.889999,  256.959991,  257.890015,\n",
       "        259.75    ,  261.970001,  256.950012,  253.5     ,  255.580002,\n",
       "        254.679993,  299.679993,  328.130005,  327.709991,  316.220001,\n",
       "        315.01001 ,  314.920013,  313.309998,  317.470001,  317.220001,\n",
       "        326.579987,  335.540009,  337.140015,  345.089996,  349.929993,\n",
       "        346.109985,  349.350006,  352.170013,  349.98999 ,  359.519989,\n",
       "        352.220001,  354.829987,  333.040009,  336.339996,  328.920013,\n",
       "        331.290009,  329.940002,  334.869995,  336.200012,  333.029999,\n",
       "        330.369995,  335.890015,  339.529999,  348.839996,  352.700012,\n",
       "        359.679993,  358.390015,  381.5     ,  378.98999 ,  393.149994,\n",
       "        404.040009,  405.589996,  419.220001,  425.25    ,  430.940002,\n",
       "        430.380005,  414.700012,  418.329987,  430.26001 ,  443.01001 ,\n",
       "        451.540009,  469.059998,  492.140015,  481.339996,  478.149994,\n",
       "        524.859985,  537.919983,  518.5     ,  513.48999 ,  510.5     ,\n",
       "        547.200012,  569.559998,  572.200012,  564.820007,  558.02002 ,\n",
       "        566.900024,  580.98999 ,  640.809998,  650.570007,  780.      ,\n",
       "        887.059998,  734.700012,  748.960022,  748.070007,  771.280029,\n",
       "        774.380005,  767.289978,  804.      ,  800.030029,  171.679993,\n",
       "        183.483994,  179.882004,  180.199997,  166.757996,  159.981995,\n",
       "        155.759995,  135.800003,  133.598007,  148.723999,  149.102005,\n",
       "        149.899994,  144.908005,  140.695999,  121.599998,  129.065994,\n",
       "        126.846001,  112.110001,  109.323997,   89.014   ,   86.040001,\n",
       "         72.244003,   85.528   ,   85.505997,   86.858002,  101.      ,\n",
       "        107.849998,  105.632004,  102.872002,  100.426003,  104.800003,\n",
       "         96.311996,   90.893997,   96.001999,  103.248001,  109.089996,\n",
       "        109.767998,  114.599998,  130.190002,  141.977997,  145.966003,\n",
       "        149.042007,  150.778   ,  149.272003,  137.343994,  146.421997,\n",
       "        141.126007,  145.029999,  159.75    ,  153.824005,  160.102005,\n",
       "        156.376007,  140.264008,  152.238007,  153.641998,  156.516006,\n",
       "        156.007996,  163.884003,  162.257996,  161.882004,  158.192001,\n",
       "        160.666   ,  159.834   ,  162.725998,  161.602005,  163.112   ,\n",
       "        165.520004,  163.376007,  163.774002,  164.046005,  161.162003,\n",
       "        167.      ,  179.619995,  176.311996,  176.591995,  172.876007,\n",
       "        177.132004,  189.983994,  188.134003,  205.009995,  194.567993,\n",
       "        187.056   ,  198.179993,  196.425995,  198.358002,  200.792007,\n",
       "        200.179993,  198.863998,  200.356003,  192.169998,  197.195999,\n",
       "        191.947998,  201.869995,  215.962006,  223.925995,  241.731995,\n",
       "        274.31601 ,  277.971985,  273.175995,  278.855988,  308.929993,\n",
       "        299.411987,  303.359985,  309.201996,  300.127991,  300.167999,\n",
       "        328.600006,  313.671997,  318.466003,  302.614014,  283.399994,\n",
       "        307.920013,  295.298004,  299.821991,  297.497986,  286.152008,\n",
       "        297.      ,  297.399994,  297.003998,  297.915985,  290.541992,\n",
       "        283.713989,  274.877991,  310.951996,  324.200012,  330.141998,\n",
       "        367.127991,  377.417999,  375.705994,  400.365997,  409.996002,\n",
       "        402.839996,  404.667999,  430.634003,  447.75    ,  442.679993,\n",
       "        498.320007,  475.049988,  447.369995,  407.      ,  418.320007,\n",
       "        330.209991,  366.279999,  371.339996,  372.720001,  419.619995,\n",
       "        449.76001 ,  441.76001 ,  423.429993,  442.149994,  449.390015,\n",
       "        424.230011,  380.359985,  387.790009,  407.339996,  421.200012,\n",
       "        419.070007,  429.01001 ,  448.160004,  415.089996,  425.679993,\n",
       "        413.980011,  425.299988,  425.920013,  434.      ,  442.299988,\n",
       "        446.649994,  461.299988,  448.880005,  439.670013,  430.829987,\n",
       "        421.940002,  422.640015,  425.790009,  420.630005,  420.279999,\n",
       "        424.679993,  406.019989,  410.829987,  388.040009,  400.51001 ,\n",
       "        423.899994,  420.980011,  438.089996,  429.950012,  421.26001 ,\n",
       "        410.359985,  417.130005,  411.76001 ,  408.5     ,  408.089996,\n",
       "        441.609985,  486.640015,  499.269989,  489.609985,  521.849976,\n",
       "        555.380005,  574.      ,  585.76001 ,  567.599976,  584.76001 ,\n",
       "        568.820007,  593.380005,  599.039978,  641.76001 ,  649.880005,\n",
       "        604.47998 ,  627.070007,  609.98999 ,  639.830017,  633.25    ,\n",
       "        622.77002 ,  655.900024,  695.      ,  649.859985,  640.340027,\n",
       "        645.97998 ,  661.77002 ,  663.690002,  665.98999 ,  694.780029,\n",
       "        705.669983,  729.77002 ,  735.109985,  755.97998 ,  816.039978,\n",
       "        880.02002 ,  811.190002,  849.440002,  854.409973,  845.      ,\n",
       "        826.159973,  844.549988,  850.450012,  844.98999 ,  846.640015,\n",
       "        880.799988,  883.090027,  864.159973,  835.429993,  793.530029,\n",
       "        839.809998,  872.789978,  854.690002,  849.98999 ,  852.22998 ,\n",
       "        863.419983,  849.460022,  804.820007,  811.659973,  816.119995,\n",
       "        796.219971,  798.150024,  787.380005,  781.299988,  714.5     ,\n",
       "        698.840027,  742.02002 ,  682.219971,  675.5     ,  718.429993,\n",
       "        686.440002,  653.200012,  621.440002,  597.950012,  563.      ,\n",
       "        673.580017,  668.059998,  699.599976,  693.72998 ,  707.940002,\n",
       "        676.880005,  701.809998,  653.159973,  654.869995,  670.      ,\n",
       "        662.159973,  630.27002 ,  640.390015,  618.710022,  611.289978,\n",
       "        635.619995,  667.929993,  661.75    ,  691.049988,  691.619995,\n",
       "        670.969971,  683.799988,  677.02002 ,  701.97998 ,  762.320007,\n",
       "        732.22998 ,  738.849976,  739.780029,  714.630005,  718.98999 ,\n",
       "        744.119995,  719.690002,  729.400024,  738.200012,  704.73999 ,\n",
       "        694.400024,  677.      ,  709.440002,  684.900024,  673.599976,\n",
       "        670.940002,  663.539978,  672.369995,  629.039978,  617.200012,\n",
       "        589.890015,  571.690002,  589.73999 ,  576.830017,  577.869995,\n",
       "        563.460022,  586.780029,  580.880005,  606.440002,  604.690002,\n",
       "        619.130005,  630.849976,  625.219971,  623.900024,  605.119995,\n",
       "        572.840027,  599.049988,  605.130005,  603.590027,  598.780029,\n",
       "        610.119995,  609.890015,  617.690002,  599.359985,  604.869995,\n",
       "        616.599976,  623.309998,  620.830017,  623.710022,  656.570007,\n",
       "        679.820007,  671.869995,  688.719971,  680.76001 ,  679.700012,\n",
       "        677.919983,  678.900024,  659.580017,  644.650024,  652.809998,\n",
       "        656.950012,  685.700012,  668.539978,  653.380005,  650.599976,\n",
       "        644.219971,  646.219971,  660.5     ,  655.289978,  649.26001 ,\n",
       "        643.380005,  657.619995,  644.780029,  646.97998 ,  677.349976,\n",
       "        687.200012,  709.669983,  709.73999 ,  710.919983,  714.630005,\n",
       "        699.099976,  713.76001 ,  709.98999 ,  707.820007,  722.25    ,\n",
       "        717.169983,  686.169983,  665.710022,  688.98999 ,  673.469971,\n",
       "        680.26001 ,  706.299988,  708.48999 ,  711.200012,  701.159973,\n",
       "        711.919983,  730.909973,  735.719971,  734.090027,  732.390015,\n",
       "        733.570007,  752.919983,  753.869995,  754.859985,  736.27002 ,\n",
       "        743.      ,  744.48999 ,  755.830017,  756.98999 ,  759.48999 ,\n",
       "        730.169983,  739.380005,  751.940002,  753.640015,  774.390015,\n",
       "        791.359985,  777.559998,  781.309998,  775.47998 ,  775.219971,\n",
       "        781.530029,  780.590027,  782.75    ,  793.609985,  785.48999 ,\n",
       "        791.940002,  805.719971,  811.080017,  818.320007,  843.030029,\n",
       "        870.109985,  864.27002 ,  865.799988,  894.      ,  909.679993,\n",
       "       1024.859985, 1018.429993, 1037.859985, 1077.040039, 1114.      ,\n",
       "       1208.589966, 1172.      , 1213.859985, 1229.910034, 1222.089966,\n",
       "       1162.939941, 1023.5     , 1067.949951, 1063.51001 , 1033.420044,\n",
       "       1013.390015, 1054.72998 , 1089.01001 , 1096.380005, 1137.060059,\n",
       "       1156.869995, 1109.030029, 1116.      , 1081.920044, 1136.98999 ,\n",
       "       1144.76001 , 1095.      , 1084.599976, 1014.969971, 1009.01001 ,\n",
       "       1051.75    , 1068.959961, 1003.799988, 1017.030029,  966.409973,\n",
       "        958.51001 ])"
      ]
     },
     "execution_count": 121,
     "metadata": {},
     "output_type": "execute_result"
    }
   ],
   "source": [
    "model_close_values"
   ]
  },
  {
   "cell_type": "code",
   "execution_count": 122,
   "metadata": {},
   "outputs": [
    {
     "data": {
      "text/plain": [
       "array([ 332.799988,  310.119995,  300.359985,  317.690002,  334.959991,\n",
       "        335.350006,  338.529999,  344.970001,  347.26001 ,  334.399994,\n",
       "        344.429993,  346.049988,  347.309998,  302.26001 ,  298.920013,\n",
       "        287.589996,  291.51001 ,  297.040009,  296.380005,  297.459991,\n",
       "        308.769989,  307.019989,  312.209991,  312.890015,  321.350006,\n",
       "        317.220001,  307.51001 ,  305.799988,  312.839996,  311.809998,\n",
       "        308.170013,  303.769989,  307.880005,  305.640015,  302.559998,\n",
       "        291.230011,  294.709991,  298.769989,  297.859985,  314.73999 ,\n",
       "        319.880005,  294.790009,  285.359985,  276.540009,  276.23999 ,\n",
       "        276.589996,  284.140015,  290.920013,  283.359985,  288.959991,\n",
       "        289.959991,  275.429993,  269.48999 ,  267.470001,  273.600006,\n",
       "        274.019989,  264.529999,  260.420013,  267.769989,  274.829987,\n",
       "        278.619995,  279.859985,  289.179993,  285.880005,  291.809998,\n",
       "        267.779999,  274.959991,  273.200012,  272.309998,  276.059998,\n",
       "        268.420013,  267.700012,  266.380005,  273.359985,  271.230011,\n",
       "        273.26001 ,  262.75    ,  263.899994,  258.660004,  247.630005,\n",
       "        235.139999,  241.470001,  238.690002,  234.009995,  244.100006,\n",
       "        255.029999,  255.339996,  247.059998,  244.839996,  241.979996,\n",
       "        239.520004,  227.009995,  232.309998,  231.949997,  228.330002,\n",
       "        211.029999,  205.360001,  205.080002,  192.729996,  195.490005,\n",
       "        190.630005,  188.699997,  189.860001,  188.220001,  185.160004,\n",
       "        178.970001,  193.600006,  196.589996,  205.949997,  204.5     ,\n",
       "        212.880005,  217.100006,  209.259995,  213.910004,  214.919998,\n",
       "        225.029999,  224.740005,  226.429993,  219.619995,  221.860001,\n",
       "        223.639999,  219.759995,  219.270004,  222.839996,  223.460007,\n",
       "        227.169998,  224.550003,  234.899994,  233.100006,  230.339996,\n",
       "        230.059998,  238.919998,  238.600006,  245.080002,  253.5     ,\n",
       "        252.380005,  254.860001,  253.539993,  258.179993,  255.679993,\n",
       "        260.170013,  264.880005,  228.820007,  228.039993,  235.770004,\n",
       "        242.259995,  241.610001,  233.850006,  234.339996,  228.320007,\n",
       "        230.75    ,  233.419998,  238.300003,  235.009995,  229.009995,\n",
       "        235.      ,  219.619995,  215.639999,  219.940002,  226.830002,\n",
       "        225.860001,  220.830002,  222.149994,  211.399994,  215.      ,\n",
       "        214.080002,  215.589996,  221.710007,  225.610001,  225.009995,\n",
       "        220.679993,  229.580002,  227.449997,  231.789993,  235.539993,\n",
       "        247.100006,  245.869995,  245.199997,  242.809998,  244.789993,\n",
       "        243.490005,  246.600006,  240.619995,  241.229996,  223.210007,\n",
       "        228.699997,  242.559998,  242.130005,  240.869995,  244.690002,\n",
       "        243.130005,  233.029999,  231.429993,  237.720001,  240.050003,\n",
       "        244.529999,  244.740005,  247.889999,  256.959991,  257.890015,\n",
       "        259.75    ,  261.970001,  256.950012,  253.5     ,  255.580002,\n",
       "        254.679993,  299.679993,  328.130005,  327.709991,  316.220001,\n",
       "        315.01001 ,  314.920013,  313.309998,  317.470001,  317.220001,\n",
       "        326.579987,  335.540009,  337.140015,  345.089996,  349.929993,\n",
       "        346.109985,  349.350006,  352.170013,  349.98999 ,  359.519989,\n",
       "        352.220001,  354.829987,  333.040009,  336.339996,  328.920013,\n",
       "        331.290009,  329.940002,  334.869995,  336.200012,  333.029999,\n",
       "        330.369995,  335.890015,  339.529999,  348.839996,  352.700012,\n",
       "        359.679993,  358.390015,  381.5     ,  378.98999 ,  393.149994,\n",
       "        404.040009,  405.589996,  419.220001,  425.25    ,  430.940002,\n",
       "        430.380005,  414.700012,  418.329987,  430.26001 ,  443.01001 ,\n",
       "        451.540009,  469.059998,  492.140015,  481.339996,  478.149994,\n",
       "        524.859985,  537.919983,  518.5     ,  513.48999 ,  510.5     ,\n",
       "        547.200012,  569.559998,  572.200012,  564.820007,  558.02002 ,\n",
       "        566.900024,  580.98999 ,  640.809998,  650.570007,  780.      ,\n",
       "        887.059998,  734.700012,  748.960022,  748.070007,  771.280029,\n",
       "        774.380005,  767.289978,  804.      ,  800.030029,  171.679993,\n",
       "        183.483994,  179.882004,  180.199997,  166.757996,  159.981995,\n",
       "        155.759995,  135.800003,  133.598007,  148.723999,  149.102005,\n",
       "        149.899994,  144.908005,  140.695999,  121.599998,  129.065994,\n",
       "        126.846001,  112.110001,  109.323997,   89.014   ,   86.040001,\n",
       "         72.244003,   85.528   ,   85.505997,   86.858002,  101.      ,\n",
       "        107.849998,  105.632004,  102.872002,  100.426003,  104.800003,\n",
       "         96.311996,   90.893997,   96.001999,  103.248001,  109.089996,\n",
       "        109.767998,  114.599998,  130.190002,  141.977997,  145.966003,\n",
       "        149.042007,  150.778   ,  149.272003,  137.343994,  146.421997,\n",
       "        141.126007,  145.029999,  159.75    ,  153.824005,  160.102005,\n",
       "        156.376007,  140.264008,  152.238007,  153.641998,  156.516006,\n",
       "        156.007996,  163.884003,  162.257996,  161.882004,  158.192001,\n",
       "        160.666   ,  159.834   ,  162.725998,  161.602005,  163.112   ,\n",
       "        165.520004,  163.376007,  163.774002,  164.046005,  161.162003,\n",
       "        167.      ,  179.619995,  176.311996,  176.591995,  172.876007,\n",
       "        177.132004,  189.983994,  188.134003,  205.009995,  194.567993,\n",
       "        187.056   ,  198.179993,  196.425995,  198.358002,  200.792007,\n",
       "        200.179993,  198.863998,  200.356003,  192.169998,  197.195999,\n",
       "        191.947998,  201.869995,  215.962006,  223.925995,  241.731995,\n",
       "        274.31601 ,  277.971985,  273.175995,  278.855988,  308.929993,\n",
       "        299.411987,  303.359985,  309.201996,  300.127991,  300.167999,\n",
       "        328.600006,  313.671997,  318.466003,  302.614014,  283.399994,\n",
       "        307.920013,  295.298004,  299.821991,  297.497986,  286.152008,\n",
       "        297.      ,  297.399994,  297.003998,  297.915985,  290.541992,\n",
       "        283.713989,  274.877991,  310.951996,  324.200012,  330.141998,\n",
       "        367.127991,  377.417999,  375.705994,  400.365997,  409.996002,\n",
       "        402.839996,  404.667999,  430.634003,  447.75    ,  442.679993,\n",
       "        498.320007,  475.049988,  447.369995,  407.      ,  418.320007,\n",
       "        330.209991,  366.279999,  371.339996,  372.720001,  419.619995,\n",
       "        449.76001 ,  441.76001 ,  423.429993,  442.149994,  449.390015,\n",
       "        424.230011,  380.359985,  387.790009,  407.339996,  421.200012,\n",
       "        419.070007,  429.01001 ,  448.160004,  415.089996,  425.679993,\n",
       "        413.980011,  425.299988,  425.920013,  434.      ,  442.299988,\n",
       "        446.649994,  461.299988,  448.880005,  439.670013,  430.829987,\n",
       "        421.940002,  422.640015,  425.790009,  420.630005,  420.279999,\n",
       "        424.679993,  406.019989,  410.829987,  388.040009,  400.51001 ,\n",
       "        423.899994,  420.980011,  438.089996,  429.950012,  421.26001 ,\n",
       "        410.359985,  417.130005,  411.76001 ,  408.5     ,  408.089996,\n",
       "        441.609985,  486.640015,  499.269989,  489.609985,  521.849976,\n",
       "        555.380005,  574.      ,  585.76001 ,  567.599976,  584.76001 ,\n",
       "        568.820007,  593.380005,  599.039978,  641.76001 ,  649.880005,\n",
       "        604.47998 ,  627.070007,  609.98999 ,  639.830017,  633.25    ,\n",
       "        622.77002 ,  655.900024,  695.      ,  649.859985,  640.340027,\n",
       "        645.97998 ,  661.77002 ,  663.690002,  665.98999 ,  694.780029,\n",
       "        705.669983,  729.77002 ,  735.109985,  755.97998 ,  816.039978,\n",
       "        880.02002 ,  811.190002,  849.440002,  854.409973,  845.      ,\n",
       "        826.159973,  844.549988,  850.450012,  844.98999 ,  846.640015,\n",
       "        880.799988,  883.090027,  864.159973,  835.429993,  793.530029,\n",
       "        839.809998,  872.789978,  854.690002,  849.98999 ,  852.22998 ,\n",
       "        863.419983,  849.460022,  804.820007,  811.659973,  816.119995,\n",
       "        796.219971,  798.150024,  787.380005,  781.299988,  714.5     ,\n",
       "        698.840027,  742.02002 ,  682.219971,  675.5     ,  718.429993,\n",
       "        686.440002,  653.200012,  621.440002,  597.950012,  563.      ,\n",
       "        673.580017,  668.059998,  699.599976,  693.72998 ,  707.940002,\n",
       "        676.880005,  701.809998,  653.159973,  654.869995,  670.      ,\n",
       "        662.159973,  630.27002 ,  640.390015,  618.710022,  611.289978,\n",
       "        635.619995,  667.929993,  661.75    ,  691.049988,  691.619995,\n",
       "        670.969971,  683.799988,  677.02002 ,  701.97998 ,  762.320007,\n",
       "        732.22998 ,  738.849976,  739.780029,  714.630005,  718.98999 ,\n",
       "        744.119995,  719.690002,  729.400024,  738.200012,  704.73999 ,\n",
       "        694.400024,  677.      ,  709.440002,  684.900024,  673.599976,\n",
       "        670.940002,  663.539978,  672.369995,  629.039978,  617.200012,\n",
       "        589.890015,  571.690002,  589.73999 ,  576.830017,  577.869995,\n",
       "        563.460022,  586.780029,  580.880005,  606.440002,  604.690002,\n",
       "        619.130005,  630.849976,  625.219971,  623.900024,  605.119995,\n",
       "        572.840027,  599.049988,  605.130005,  603.590027,  598.780029,\n",
       "        610.119995,  609.890015,  617.690002,  599.359985,  604.869995,\n",
       "        616.599976,  623.309998,  620.830017,  623.710022,  656.570007,\n",
       "        679.820007,  671.869995,  688.719971,  680.76001 ,  679.700012,\n",
       "        677.919983,  678.900024,  659.580017,  644.650024,  652.809998,\n",
       "        656.950012,  685.700012,  668.539978,  653.380005,  650.599976,\n",
       "        644.219971,  646.219971,  660.5     ,  655.289978,  649.26001 ,\n",
       "        643.380005,  657.619995,  644.780029,  646.97998 ,  677.349976,\n",
       "        687.200012,  709.669983,  709.73999 ,  710.919983,  714.630005,\n",
       "        699.099976,  713.76001 ,  709.98999 ,  707.820007,  722.25    ,\n",
       "        717.169983,  686.169983,  665.710022,  688.98999 ,  673.469971,\n",
       "        680.26001 ,  706.299988,  708.48999 ,  711.200012,  701.159973,\n",
       "        711.919983,  730.909973,  735.719971,  734.090027,  732.390015,\n",
       "        733.570007,  752.919983,  753.869995,  754.859985,  736.27002 ,\n",
       "        743.      ,  744.48999 ,  755.830017,  756.98999 ,  759.48999 ,\n",
       "        730.169983,  739.380005,  751.940002,  753.640015,  774.390015,\n",
       "        791.359985,  777.559998,  781.309998,  775.47998 ,  775.219971,\n",
       "        781.530029,  780.590027,  782.75    ,  793.609985,  785.48999 ,\n",
       "        791.940002,  805.719971,  811.080017,  818.320007,  843.030029,\n",
       "        870.109985,  864.27002 ,  865.799988,  894.      ,  909.679993,\n",
       "       1024.859985, 1018.429993, 1037.859985, 1077.040039, 1114.      ,\n",
       "       1208.589966, 1172.      , 1213.859985, 1229.910034, 1222.089966,\n",
       "       1162.939941, 1023.5     , 1067.949951, 1063.51001 , 1033.420044,\n",
       "       1013.390015, 1054.72998 , 1089.01001 , 1096.380005, 1137.060059,\n",
       "       1156.869995, 1109.030029, 1116.      , 1081.920044, 1136.98999 ,\n",
       "       1144.76001 , 1095.      , 1084.599976, 1014.969971, 1009.01001 ,\n",
       "       1051.75    , 1068.959961, 1003.799988, 1017.030029,  966.409973,\n",
       "        958.51001 ])"
      ]
     },
     "execution_count": 122,
     "metadata": {},
     "output_type": "execute_result"
    }
   ],
   "source": [
    "all_close_values"
   ]
  },
  {
   "cell_type": "code",
   "execution_count": 123,
   "metadata": {},
   "outputs": [
    {
     "data": {
      "image/png": "[encoded data removed]",
      "text/plain": [
       "<Figure size 1152x576 with 1 Axes>"
      ]
     },
     "metadata": {
      "needs_background": "light"
     },
     "output_type": "display_data"
    }
   ],
   "source": [
    "#look_back = 7\n",
    "plt.figure(figsize=(16,8))\n",
    "plt.title('Stock Price Prediction TESLA with Machine Learning LSTM Model')\n",
    "plt.xlabel('Date', fontsize=18)\n",
    "plt.ylabel('Tesla Close Price', fontsize=18)\n",
    "plt.plot(all_close_values)\n",
    "plt.plot(train_predict)\n",
    "plt.plot(np.arange(len(test_predict)) + len(all_close_values_train), test_predict)\n",
    "plt.legend(['Close Price', 'Training Prediction', 'Test Prediction'], loc='lower right')\n",
    "plt.show() "
   ]
  },
  {
   "cell_type": "code",
   "execution_count": null,
   "metadata": {},
   "outputs": [],
   "source": []
  },
  {
   "cell_type": "code",
   "execution_count": 124,
   "metadata": {},
   "outputs": [],
   "source": [
    "last_count_days = all_input_values[len(all_input_values)-count_day:]"
   ]
  },
  {
   "cell_type": "code",
   "execution_count": 125,
   "metadata": {},
   "outputs": [
    {
     "data": {
      "text/plain": [
       "array([[ 1.05270996e+03,  1.07238000e+03,  1.03300000e+03,\n",
       "         1.39688000e+07,  4.73778040e-01,  1.56544667e-01,\n",
       "         7.90600000e-01],\n",
       "       [ 1.06064001e+03,  1.06248999e+03,  1.00235999e+03,\n",
       "         1.98128000e+07,  4.44949495e-01,  7.24747475e-02,\n",
       "         9.41800000e-01],\n",
       "       [ 1.00875000e+03,  1.02097998e+03,  9.82530029e+02,\n",
       "         1.98550000e+07,  5.95344828e-01,  2.19166667e-01,\n",
       "         9.04100000e-01],\n",
       "       [ 1.00109003e+03,  1.00500000e+03,  9.51419983e+02,\n",
       "         2.61985000e+07,  6.50000000e-01,  1.03409091e-01,\n",
       "        -3.19700000e-01],\n",
       "       [ 9.45000000e+02,  9.66409973e+02,  9.30000000e+02,\n",
       "         2.35330000e+07,  3.57913165e-01,  1.68137255e-01,\n",
       "        -9.34900000e-01]])"
      ]
     },
     "execution_count": 125,
     "metadata": {},
     "output_type": "execute_result"
    }
   ],
   "source": [
    "last_count_days"
   ]
  },
  {
   "cell_type": "code",
   "execution_count": 126,
   "metadata": {},
   "outputs": [
    {
     "data": {
      "text/plain": [
       "(5, 7)"
      ]
     },
     "execution_count": 126,
     "metadata": {},
     "output_type": "execute_result"
    }
   ],
   "source": [
    "last_count_days.shape"
   ]
  },
  {
   "cell_type": "code",
   "execution_count": 127,
   "metadata": {},
   "outputs": [],
   "source": [
    "last_count_days= np.array(last_count_days)"
   ]
  },
  {
   "cell_type": "code",
   "execution_count": 128,
   "metadata": {},
   "outputs": [
    {
     "data": {
      "text/plain": [
       "array([[ 1.05270996e+03,  1.07238000e+03,  1.03300000e+03,\n",
       "         1.39688000e+07,  4.73778040e-01,  1.56544667e-01,\n",
       "         7.90600000e-01],\n",
       "       [ 1.06064001e+03,  1.06248999e+03,  1.00235999e+03,\n",
       "         1.98128000e+07,  4.44949495e-01,  7.24747475e-02,\n",
       "         9.41800000e-01],\n",
       "       [ 1.00875000e+03,  1.02097998e+03,  9.82530029e+02,\n",
       "         1.98550000e+07,  5.95344828e-01,  2.19166667e-01,\n",
       "         9.04100000e-01],\n",
       "       [ 1.00109003e+03,  1.00500000e+03,  9.51419983e+02,\n",
       "         2.61985000e+07,  6.50000000e-01,  1.03409091e-01,\n",
       "        -3.19700000e-01],\n",
       "       [ 9.45000000e+02,  9.66409973e+02,  9.30000000e+02,\n",
       "         2.35330000e+07,  3.57913165e-01,  1.68137255e-01,\n",
       "        -9.34900000e-01]])"
      ]
     },
     "execution_count": 128,
     "metadata": {},
     "output_type": "execute_result"
    }
   ],
   "source": [
    "last_count_days"
   ]
  },
  {
   "cell_type": "code",
   "execution_count": 129,
   "metadata": {},
   "outputs": [
    {
     "data": {
      "text/plain": [
       "(5, 7)"
      ]
     },
     "execution_count": 129,
     "metadata": {},
     "output_type": "execute_result"
    }
   ],
   "source": [
    "last_count_days.shape"
   ]
  },
  {
   "cell_type": "code",
   "execution_count": 130,
   "metadata": {},
   "outputs": [],
   "source": [
    "last_count_days = np.reshape(last_count_days,(1, (last_count_days.shape[0]*last_count_days.shape[1])))"
   ]
  },
  {
   "cell_type": "code",
   "execution_count": 131,
   "metadata": {},
   "outputs": [
    {
     "data": {
      "text/plain": [
       "(1, 35)"
      ]
     },
     "execution_count": 131,
     "metadata": {},
     "output_type": "execute_result"
    }
   ],
   "source": [
    "last_count_days.shape"
   ]
  },
  {
   "cell_type": "code",
   "execution_count": 132,
   "metadata": {},
   "outputs": [],
   "source": [
    "prediction = model.predict(last_count_days)"
   ]
  },
  {
   "cell_type": "code",
   "execution_count": 133,
   "metadata": {},
   "outputs": [
    {
     "data": {
      "text/plain": [
       "array([[3.5387974]], dtype=float32)"
      ]
     },
     "execution_count": 133,
     "metadata": {},
     "output_type": "execute_result"
    }
   ],
   "source": [
    "prediction"
   ]
  },
  {
   "cell_type": "code",
   "execution_count": 134,
   "metadata": {},
   "outputs": [],
   "source": [
    "prediction  = scaler2.inverse_transform(prediction)"
   ]
  },
  {
   "cell_type": "code",
   "execution_count": 135,
   "metadata": {},
   "outputs": [
    {
     "data": {
      "text/plain": [
       "array([[1045.7869]], dtype=float32)"
      ]
     },
     "execution_count": 135,
     "metadata": {},
     "output_type": "execute_result"
    }
   ],
   "source": [
    "prediction"
   ]
  },
  {
   "cell_type": "code",
   "execution_count": 136,
   "metadata": {},
   "outputs": [
    {
     "data": {
      "image/png": "[encoded data removed]",
      "text/plain": [
       "<Figure size 1152x576 with 1 Axes>"
      ]
     },
     "metadata": {
      "needs_background": "light"
     },
     "output_type": "display_data"
    }
   ],
   "source": [
    "plt.figure(figsize=(16,8))\n",
    "plt.title('Stock Price Prediction TESLA with Machine Learning LSTM Model')\n",
    "plt.xlabel('Date', fontsize=18)\n",
    "plt.ylabel('Tesla Close Price', fontsize=18)\n",
    "plt.plot(all_close_values)\n",
    "plt.plot(train_predict)\n",
    "plt.plot(np.arange(len(test_predict)) + len(all_close_values_train), test_predict)\n",
    "plt.plot(len(all_input_values)+count_day, prediction, marker=\"o\", markersize=10, markeredgecolor=\"red\", markerfacecolor=\"green\")\n",
    "plt.annotate(\"Prediction\",(len(all_input_values)+count_day+10, prediction))\n",
    "plt.legend(['Close Price', 'Training Prediction', 'Test Prediction'], loc='lower right')\n",
    "plt.show() "
   ]
  },
  {
   "cell_type": "code",
   "execution_count": null,
   "metadata": {},
   "outputs": [],
   "source": []
  }
 ],
 "metadata": {
  "interpreter": {
   "hash": "1e96c48bd2f2c87de99cbbc8e8be955c5c039e1e80d25dfb77282996a6396753"
  },
  "kernelspec": {
   "display_name": "Python 3.9.7 64-bit",
   "language": "python",
   "name": "python3"
  },
  "language_info": {
   "codemirror_mode": {
    "name": "ipython",
    "version": 3
   },
   "file_extension": ".py",
   "mimetype": "text/x-python",
   "name": "python",
   "nbconvert_exporter": "python",
   "pygments_lexer": "ipython3",
   "version": "3.8.10"
  },
  "orig_nbformat": 4
 },
 "nbformat": 4,
 "nbformat_minor": 2
}
