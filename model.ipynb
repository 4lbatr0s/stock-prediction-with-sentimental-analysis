{
 "cells": [
  {
   "cell_type": "code",
   "execution_count": 49,
   "metadata": {},
   "outputs": [],
   "source": [
    "import pandas as pd\n",
    "import numpy as np\n",
    "from sklearn.preprocessing import MinMaxScaler, StandardScaler\n",
    "from tensorflow.keras.models import Sequential\n",
    "from tensorflow.keras.layers import Dense, Dropout\n",
    "from tensorflow.keras.layers import LSTM\n",
    "from sklearn.metrics import mean_squared_error, mean_absolute_percentage_error\n",
    "import matplotlib.pyplot as plt"
   ]
  },
  {
   "cell_type": "code",
   "execution_count": 50,
   "metadata": {},
   "outputs": [],
   "source": [
    "merged_data = pd.read_excel(\"final_data.xlsx\")"
   ]
  },
  {
   "cell_type": "code",
   "execution_count": 51,
   "metadata": {},
   "outputs": [],
   "source": [
    "keep_columns=['Open','High','Low','Volume','Subjectivity','Polarity','Compound']    "
   ]
  },
  {
   "cell_type": "code",
   "execution_count": 52,
   "metadata": {},
   "outputs": [],
   "source": [
    "all_input_values=merged_data[keep_columns].values #numpy array."
   ]
  },
  {
   "cell_type": "code",
   "execution_count": 53,
   "metadata": {},
   "outputs": [
    {
     "name": "stdout",
     "output_type": "stream",
     "text": [
      "741\n",
      "-------------\n",
      "[[3.06100006e+02 3.15130005e+02 2.98799988e+02 1.16586480e+07\n",
      "  5.00000000e-01 0.00000000e+00 0.00000000e+00]\n",
      " [3.07000000e+02 3.09399994e+02 2.97380005e+02 6.96518400e+06\n",
      "  5.00000000e-01 0.00000000e+00 0.00000000e+00]\n",
      " [3.06000000e+02 3.18000000e+02 3.02730011e+02 7.39411600e+06\n",
      "  5.00000000e-01 0.00000000e+00 0.00000000e+00]\n",
      " [3.21720001e+02 3.36739990e+02 3.17750793e+02 7.55122500e+06\n",
      "  5.00000000e-01 0.00000000e+00 0.00000000e+00]\n",
      " [3.41959991e+02 3.44010010e+02 3.27019989e+02 7.00851600e+06\n",
      "  5.00000000e-01 0.00000000e+00 0.00000000e+00]]\n",
      "-------------\n",
      "[[3.07000000e+02 3.09399994e+02 2.97380005e+02 6.96518400e+06\n",
      "  5.00000000e-01 0.00000000e+00 0.00000000e+00]\n",
      " [3.06000000e+02 3.18000000e+02 3.02730011e+02 7.39411600e+06\n",
      "  5.00000000e-01 0.00000000e+00 0.00000000e+00]\n",
      " [3.21720001e+02 3.36739990e+02 3.17750793e+02 7.55122500e+06\n",
      "  5.00000000e-01 0.00000000e+00 0.00000000e+00]\n",
      " [3.41959991e+02 3.44010010e+02 3.27019989e+02 7.00851600e+06\n",
      "  5.00000000e-01 0.00000000e+00 0.00000000e+00]\n",
      " [3.35500000e+02 3.43502502e+02 3.31470001e+02 5.43294500e+06\n",
      "  5.00000000e-01 0.00000000e+00 0.00000000e+00]]\n"
     ]
    }
   ],
   "source": [
    "model_input=[]\n",
    "count_day=5\n",
    "pred_day_count=1\n",
    "\n",
    "j=0\n",
    "temp=[]\n",
    "for i in range(0,len(all_input_values)-5):\n",
    "    temp=all_input_values[i:i+count_day]\n",
    "    model_input.append(temp)\n",
    "\n",
    "\n",
    "print(len(model_input))  \n",
    "print(\"-------------\")\n",
    "print(model_input[1])\n",
    "print(\"-------------\")\n",
    "print(model_input[2])"
   ]
  },
  {
   "cell_type": "code",
   "execution_count": 54,
   "metadata": {},
   "outputs": [
    {
     "name": "stdout",
     "output_type": "stream",
     "text": [
      "(741, 5, 7)\n"
     ]
    }
   ],
   "source": [
    "model_input=np.array(model_input)\n",
    "print(model_input.shape)"
   ]
  },
  {
   "cell_type": "code",
   "execution_count": 55,
   "metadata": {},
   "outputs": [],
   "source": [
    "all_close_values = merged_data['Close'].values"
   ]
  },
  {
   "cell_type": "code",
   "execution_count": 56,
   "metadata": {},
   "outputs": [],
   "source": [
    "model_close_values=[]\n",
    "for i in range(5,len(all_close_values)):\n",
    "    model_close_values.append(all_close_values[i])"
   ]
  },
  {
   "cell_type": "code",
   "execution_count": 57,
   "metadata": {},
   "outputs": [
    {
     "name": "stdout",
     "output_type": "stream",
     "text": [
      "(741,)\n",
      "(741, 5, 7)\n"
     ]
    }
   ],
   "source": [
    "model_close_values=np.array(model_close_values)\n",
    "print(model_close_values.shape)\n",
    "\n",
    "print(model_input.shape)"
   ]
  },
  {
   "cell_type": "code",
   "execution_count": 58,
   "metadata": {},
   "outputs": [],
   "source": [
    "training_size=int(len(model_input)*0.75)\n",
    "test_size=len(model_input)-training_size\n",
    "all_input_values_train, all_input_values_test=model_input[0:training_size,:],model_input[training_size:len(model_input),:]\n",
    "\n",
    "training_size=int(len(model_close_values)*0.75)\n",
    "all_close_values_train, all_close_values_test = model_close_values[0:training_size], model_close_values[training_size:len(model_close_values)]"
   ]
  },
  {
   "cell_type": "code",
   "execution_count": 59,
   "metadata": {},
   "outputs": [
    {
     "data": {
      "text/plain": [
       "array([335.350006, 338.529999, 344.970001, 347.26001 , 334.399994])"
      ]
     },
     "execution_count": 59,
     "metadata": {},
     "output_type": "execute_result"
    }
   ],
   "source": [
    "all_close_values_train[0:5]"
   ]
  },
  {
   "cell_type": "code",
   "execution_count": 60,
   "metadata": {},
   "outputs": [],
   "source": [
    "all_close_values_train=np.array(all_close_values_train)\n",
    "all_close_values_test=np.array(all_close_values_test)"
   ]
  },
  {
   "cell_type": "code",
   "execution_count": 61,
   "metadata": {},
   "outputs": [
    {
     "data": {
      "text/plain": [
       "array([[[3.37790009e+02, 3.39209991e+02, 3.25260010e+02, 6.30233800e+06,\n",
       "         5.00000000e-01, 0.00000000e+00, 0.00000000e+00],\n",
       "        [3.06100006e+02, 3.15130005e+02, 2.98799988e+02, 1.16586480e+07,\n",
       "         5.00000000e-01, 0.00000000e+00, 0.00000000e+00],\n",
       "        [3.07000000e+02, 3.09399994e+02, 2.97380005e+02, 6.96518400e+06,\n",
       "         5.00000000e-01, 0.00000000e+00, 0.00000000e+00],\n",
       "        [3.06000000e+02, 3.18000000e+02, 3.02730011e+02, 7.39411600e+06,\n",
       "         5.00000000e-01, 0.00000000e+00, 0.00000000e+00],\n",
       "        [3.21720001e+02, 3.36739990e+02, 3.17750793e+02, 7.55122500e+06,\n",
       "         5.00000000e-01, 0.00000000e+00, 0.00000000e+00]],\n",
       "\n",
       "       [[3.06100006e+02, 3.15130005e+02, 2.98799988e+02, 1.16586480e+07,\n",
       "         5.00000000e-01, 0.00000000e+00, 0.00000000e+00],\n",
       "        [3.07000000e+02, 3.09399994e+02, 2.97380005e+02, 6.96518400e+06,\n",
       "         5.00000000e-01, 0.00000000e+00, 0.00000000e+00],\n",
       "        [3.06000000e+02, 3.18000000e+02, 3.02730011e+02, 7.39411600e+06,\n",
       "         5.00000000e-01, 0.00000000e+00, 0.00000000e+00],\n",
       "        [3.21720001e+02, 3.36739990e+02, 3.17750793e+02, 7.55122500e+06,\n",
       "         5.00000000e-01, 0.00000000e+00, 0.00000000e+00],\n",
       "        [3.41959991e+02, 3.44010010e+02, 3.27019989e+02, 7.00851600e+06,\n",
       "         5.00000000e-01, 0.00000000e+00, 0.00000000e+00]]])"
      ]
     },
     "execution_count": 61,
     "metadata": {},
     "output_type": "execute_result"
    }
   ],
   "source": [
    "all_input_values_train[0:2]"
   ]
  },
  {
   "cell_type": "code",
   "execution_count": 62,
   "metadata": {},
   "outputs": [
    {
     "name": "stdout",
     "output_type": "stream",
     "text": [
      "(555, 5, 7) (186, 5, 7) (555,) (186,)\n"
     ]
    }
   ],
   "source": [
    "print(all_input_values_train.shape, all_input_values_test.shape, all_close_values_train.shape, all_close_values_test.shape)"
   ]
  },
  {
   "cell_type": "code",
   "execution_count": 63,
   "metadata": {},
   "outputs": [
    {
     "data": {
      "text/plain": [
       "(555,)"
      ]
     },
     "execution_count": 63,
     "metadata": {},
     "output_type": "execute_result"
    }
   ],
   "source": [
    "all_close_values_train.shape"
   ]
  },
  {
   "cell_type": "code",
   "execution_count": 64,
   "metadata": {},
   "outputs": [
    {
     "name": "stdout",
     "output_type": "stream",
     "text": [
      "(555, 35)\n"
     ]
    }
   ],
   "source": [
    "all_input_values_train=np.reshape(all_input_values_train,(555,35))\n",
    "print(all_input_values_train.shape)"
   ]
  },
  {
   "cell_type": "code",
   "execution_count": 65,
   "metadata": {},
   "outputs": [
    {
     "name": "stdout",
     "output_type": "stream",
     "text": [
      "(186, 35)\n"
     ]
    }
   ],
   "source": [
    "all_input_values_test=np.reshape(all_input_values_test,(186,35))\n",
    "print(all_input_values_test.shape)"
   ]
  },
  {
   "cell_type": "code",
   "execution_count": 66,
   "metadata": {},
   "outputs": [],
   "source": [
    "#scaling\n",
    "scaler = MinMaxScaler(feature_range=(0,1))\n",
    "all_input_values_train=scaler.fit_transform(all_input_values_train) # hem fit ediyor hem de scale ediyor\n",
    "all_input_values_test=scaler.transform(all_input_values_test) # sadece transform olacak. cünkü model bu veriyi eğitim esnasında görmeyecek \n"
   ]
  },
  {
   "cell_type": "code",
   "execution_count": 67,
   "metadata": {},
   "outputs": [],
   "source": [
    "all_close_values_train = np.array([all_close_values_train]).T\n",
    "all_close_values_test = np.array([all_close_values_test]).T"
   ]
  },
  {
   "cell_type": "code",
   "execution_count": 68,
   "metadata": {},
   "outputs": [
    {
     "name": "stdout",
     "output_type": "stream",
     "text": [
      "(555, 35) (186, 35) (555, 1) (186, 1)\n"
     ]
    }
   ],
   "source": [
    "print(all_input_values_train.shape, all_input_values_test.shape, all_close_values_train.shape, all_close_values_test.shape)"
   ]
  },
  {
   "cell_type": "code",
   "execution_count": 69,
   "metadata": {},
   "outputs": [],
   "source": [
    "scaler2 = StandardScaler()\n",
    "all_close_values_train = scaler2.fit_transform(all_close_values_train)\n",
    "all_close_values_test = scaler2.transform(all_close_values_test)"
   ]
  },
  {
   "cell_type": "code",
   "execution_count": 70,
   "metadata": {},
   "outputs": [],
   "source": [
    "timestep=5\n",
    "all_input_values_train = all_input_values_train.reshape((len(all_input_values_train),timestep,7))\n",
    "all_input_values_test = all_input_values_test.reshape((len(all_input_values_test),timestep,7))"
   ]
  },
  {
   "cell_type": "code",
   "execution_count": 71,
   "metadata": {},
   "outputs": [
    {
     "data": {
      "text/plain": [
       "(555, 1)"
      ]
     },
     "execution_count": 71,
     "metadata": {},
     "output_type": "execute_result"
    }
   ],
   "source": [
    "all_close_values_train.shape"
   ]
  },
  {
   "cell_type": "code",
   "execution_count": 72,
   "metadata": {},
   "outputs": [
    {
     "data": {
      "text/plain": [
       "(186, 1)"
      ]
     },
     "execution_count": 72,
     "metadata": {},
     "output_type": "execute_result"
    }
   ],
   "source": [
    "all_close_values_test.shape"
   ]
  },
  {
   "cell_type": "code",
   "execution_count": 73,
   "metadata": {},
   "outputs": [
    {
     "data": {
      "text/plain": [
       "(555, 5, 7)"
      ]
     },
     "execution_count": 73,
     "metadata": {},
     "output_type": "execute_result"
    }
   ],
   "source": [
    "all_input_values_train.shape"
   ]
  },
  {
   "cell_type": "code",
   "execution_count": 74,
   "metadata": {},
   "outputs": [
    {
     "data": {
      "text/plain": [
       "(186, 5, 7)"
      ]
     },
     "execution_count": 74,
     "metadata": {},
     "output_type": "execute_result"
    }
   ],
   "source": [
    "all_input_values_test.shape"
   ]
  },
  {
   "cell_type": "code",
   "execution_count": 75,
   "metadata": {},
   "outputs": [],
   "source": [
    "model=Sequential()\n",
    "model.add(LSTM(units = 50, input_shape = (all_input_values_train.shape[1],all_input_values_train.shape[2]), return_sequences=True))\n",
    "model.add(Dropout(0.2))\n",
    "\n",
    "# model.add(LSTM(units=50,return_sequences=True))\n",
    "# model.add(LSTM(units=50))\n",
    "model.add(Dense(units = 1))"
   ]
  },
  {
   "cell_type": "code",
   "execution_count": 76,
   "metadata": {},
   "outputs": [],
   "source": [
    "model.compile(optimizer='adam',loss='mean_squared_error')"
   ]
  },
  {
   "cell_type": "code",
   "execution_count": 77,
   "metadata": {},
   "outputs": [
    {
     "name": "stdout",
     "output_type": "stream",
     "text": [
      "Epoch 1/100\n",
      "70/70 [==============================] - 5s 8ms/step - loss: 0.7841\n",
      "Epoch 2/100\n",
      "70/70 [==============================] - 0s 5ms/step - loss: 0.4222\n",
      "Epoch 3/100\n",
      "70/70 [==============================] - 0s 5ms/step - loss: 0.3030\n",
      "Epoch 4/100\n",
      "70/70 [==============================] - 1s 7ms/step - loss: 0.2398\n",
      "Epoch 5/100\n",
      "70/70 [==============================] - 1s 8ms/step - loss: 0.2042\n",
      "Epoch 6/100\n",
      "70/70 [==============================] - 0s 6ms/step - loss: 0.1760\n",
      "Epoch 7/100\n",
      "70/70 [==============================] - 0s 7ms/step - loss: 0.1625\n",
      "Epoch 8/100\n",
      "70/70 [==============================] - 0s 6ms/step - loss: 0.1459\n",
      "Epoch 9/100\n",
      "70/70 [==============================] - 0s 6ms/step - loss: 0.1329\n",
      "Epoch 10/100\n",
      "70/70 [==============================] - 0s 5ms/step - loss: 0.1209\n",
      "Epoch 11/100\n",
      "70/70 [==============================] - 0s 6ms/step - loss: 0.1160\n",
      "Epoch 12/100\n",
      "70/70 [==============================] - 0s 7ms/step - loss: 0.1059\n",
      "Epoch 13/100\n",
      "70/70 [==============================] - 1s 8ms/step - loss: 0.1031A: 0s - loss\n",
      "Epoch 14/100\n",
      "70/70 [==============================] - 1s 8ms/step - loss: 0.0974\n",
      "Epoch 15/100\n",
      "70/70 [==============================] - 0s 7ms/step - loss: 0.0992\n",
      "Epoch 16/100\n",
      "70/70 [==============================] - 1s 9ms/step - loss: 0.0957\n",
      "Epoch 17/100\n",
      "70/70 [==============================] - 0s 6ms/step - loss: 0.0941\n",
      "Epoch 18/100\n",
      "70/70 [==============================] - 1s 7ms/step - loss: 0.0931\n",
      "Epoch 19/100\n",
      "70/70 [==============================] - 0s 6ms/step - loss: 0.0928\n",
      "Epoch 20/100\n",
      "70/70 [==============================] - 0s 6ms/step - loss: 0.0942\n",
      "Epoch 21/100\n",
      "70/70 [==============================] - 1s 9ms/step - loss: 0.0897A: 0s - loss: 0.0\n",
      "Epoch 22/100\n",
      "70/70 [==============================] - 1s 7ms/step - loss: 0.0943A: 0s - los\n",
      "Epoch 23/100\n",
      "70/70 [==============================] - 1s 7ms/step - loss: 0.0891A: 0s - loss:\n",
      "Epoch 24/100\n",
      "70/70 [==============================] - 0s 6ms/step - loss: 0.0913\n",
      "Epoch 25/100\n",
      "70/70 [==============================] - 0s 5ms/step - loss: 0.0920\n",
      "Epoch 26/100\n",
      "70/70 [==============================] - 0s 7ms/step - loss: 0.0937\n",
      "Epoch 27/100\n",
      "70/70 [==============================] - 0s 7ms/step - loss: 0.0907\n",
      "Epoch 28/100\n",
      "70/70 [==============================] - 0s 6ms/step - loss: 0.0898\n",
      "Epoch 29/100\n",
      "70/70 [==============================] - 1s 8ms/step - loss: 0.0933\n",
      "Epoch 30/100\n",
      "70/70 [==============================] - 0s 6ms/step - loss: 0.0936\n",
      "Epoch 31/100\n",
      "70/70 [==============================] - 0s 6ms/step - loss: 0.0874\n",
      "Epoch 32/100\n",
      "70/70 [==============================] - 0s 5ms/step - loss: 0.0902\n",
      "Epoch 33/100\n",
      "70/70 [==============================] - 0s 5ms/step - loss: 0.0858\n",
      "Epoch 34/100\n",
      "70/70 [==============================] - 1s 8ms/step - loss: 0.0882A: 0s - loss: 0.\n",
      "Epoch 35/100\n",
      "70/70 [==============================] - 1s 10ms/step - loss: 0.0889\n",
      "Epoch 36/100\n",
      "70/70 [==============================] - 1s 10ms/step - loss: 0.0889\n",
      "Epoch 37/100\n",
      "70/70 [==============================] - 1s 20ms/step - loss: 0.0873\n",
      "Epoch 38/100\n",
      "70/70 [==============================] - 1s 7ms/step - loss: 0.0881\n",
      "Epoch 39/100\n",
      "70/70 [==============================] - 0s 7ms/step - loss: 0.0882\n",
      "Epoch 40/100\n",
      "70/70 [==============================] - 1s 13ms/step - loss: 0.0906\n",
      "Epoch 41/100\n",
      "70/70 [==============================] - 1s 9ms/step - loss: 0.0880\n",
      "Epoch 42/100\n",
      "70/70 [==============================] - 1s 8ms/step - loss: 0.0890\n",
      "Epoch 43/100\n",
      "70/70 [==============================] - 1s 10ms/step - loss: 0.0883\n",
      "Epoch 44/100\n",
      "70/70 [==============================] - 1s 9ms/step - loss: 0.0898\n",
      "Epoch 45/100\n",
      "70/70 [==============================] - 1s 10ms/step - loss: 0.0875\n",
      "Epoch 46/100\n",
      "70/70 [==============================] - 1s 7ms/step - loss: 0.0862\n",
      "Epoch 47/100\n",
      "70/70 [==============================] - 0s 6ms/step - loss: 0.0874\n",
      "Epoch 48/100\n",
      "70/70 [==============================] - 1s 8ms/step - loss: 0.0870\n",
      "Epoch 49/100\n",
      "70/70 [==============================] - 1s 9ms/step - loss: 0.0832\n",
      "Epoch 50/100\n",
      "70/70 [==============================] - 1s 8ms/step - loss: 0.0858\n",
      "Epoch 51/100\n",
      "70/70 [==============================] - 1s 8ms/step - loss: 0.0848\n",
      "Epoch 52/100\n",
      "70/70 [==============================] - 0s 7ms/step - loss: 0.0828\n",
      "Epoch 53/100\n",
      "70/70 [==============================] - 1s 12ms/step - loss: 0.0870\n",
      "Epoch 54/100\n",
      "70/70 [==============================] - 1s 9ms/step - loss: 0.0843A: 0s - loss: 0 - ETA: 0s - loss: 0.103 - ETA: 0s - loss: 0.\n",
      "Epoch 55/100\n",
      "70/70 [==============================] - 0s 5ms/step - loss: 0.0841\n",
      "Epoch 56/100\n",
      "70/70 [==============================] - 0s 5ms/step - loss: 0.0855\n",
      "Epoch 57/100\n",
      "70/70 [==============================] - 0s 5ms/step - loss: 0.0883\n",
      "Epoch 58/100\n",
      "70/70 [==============================] - 0s 5ms/step - loss: 0.0868\n",
      "Epoch 59/100\n",
      "70/70 [==============================] - 0s 5ms/step - loss: 0.0859\n",
      "Epoch 60/100\n",
      "70/70 [==============================] - 0s 5ms/step - loss: 0.0853\n",
      "Epoch 61/100\n",
      "70/70 [==============================] - 0s 5ms/step - loss: 0.0840\n",
      "Epoch 62/100\n",
      "70/70 [==============================] - 0s 5ms/step - loss: 0.0829\n",
      "Epoch 63/100\n",
      "70/70 [==============================] - 0s 5ms/step - loss: 0.0827\n",
      "Epoch 64/100\n",
      "70/70 [==============================] - 0s 5ms/step - loss: 0.0840\n",
      "Epoch 65/100\n",
      "70/70 [==============================] - 0s 5ms/step - loss: 0.0840\n",
      "Epoch 66/100\n",
      "70/70 [==============================] - 0s 5ms/step - loss: 0.0826\n",
      "Epoch 67/100\n",
      "70/70 [==============================] - 0s 5ms/step - loss: 0.0820\n",
      "Epoch 68/100\n",
      "70/70 [==============================] - 0s 5ms/step - loss: 0.0845\n",
      "Epoch 69/100\n",
      "70/70 [==============================] - 0s 4ms/step - loss: 0.0846\n",
      "Epoch 70/100\n",
      "70/70 [==============================] - 0s 5ms/step - loss: 0.0842\n",
      "Epoch 71/100\n",
      "70/70 [==============================] - 0s 6ms/step - loss: 0.0898\n",
      "Epoch 72/100\n",
      "70/70 [==============================] - 0s 6ms/step - loss: 0.0815\n",
      "Epoch 73/100\n",
      "70/70 [==============================] - 0s 5ms/step - loss: 0.0846\n",
      "Epoch 74/100\n",
      "70/70 [==============================] - 0s 6ms/step - loss: 0.0878\n",
      "Epoch 75/100\n",
      "70/70 [==============================] - 0s 5ms/step - loss: 0.0821\n",
      "Epoch 76/100\n",
      "70/70 [==============================] - 0s 6ms/step - loss: 0.0831\n",
      "Epoch 77/100\n",
      "70/70 [==============================] - 0s 6ms/step - loss: 0.0795\n",
      "Epoch 78/100\n",
      "70/70 [==============================] - 0s 7ms/step - loss: 0.0855\n",
      "Epoch 79/100\n",
      "70/70 [==============================] - 1s 9ms/step - loss: 0.0847A: 0s - loss: \n",
      "Epoch 80/100\n",
      "70/70 [==============================] - ETA: 0s - loss: 0.089 - 0s 5ms/step - loss: 0.0834\n",
      "Epoch 81/100\n",
      "70/70 [==============================] - 0s 5ms/step - loss: 0.0841\n",
      "Epoch 82/100\n",
      "70/70 [==============================] - 0s 5ms/step - loss: 0.0833\n",
      "Epoch 83/100\n",
      "70/70 [==============================] - 0s 5ms/step - loss: 0.0841\n",
      "Epoch 84/100\n",
      "70/70 [==============================] - 0s 5ms/step - loss: 0.0830\n",
      "Epoch 85/100\n",
      "70/70 [==============================] - 0s 5ms/step - loss: 0.0832\n",
      "Epoch 86/100\n",
      "70/70 [==============================] - 0s 5ms/step - loss: 0.0844\n",
      "Epoch 87/100\n",
      "70/70 [==============================] - 0s 5ms/step - loss: 0.0825\n",
      "Epoch 88/100\n",
      "70/70 [==============================] - 0s 5ms/step - loss: 0.0853\n",
      "Epoch 89/100\n",
      "70/70 [==============================] - 0s 5ms/step - loss: 0.0833\n",
      "Epoch 90/100\n",
      "70/70 [==============================] - 0s 5ms/step - loss: 0.0832\n",
      "Epoch 91/100\n",
      "70/70 [==============================] - 0s 4ms/step - loss: 0.0850\n",
      "Epoch 92/100\n",
      "70/70 [==============================] - 0s 5ms/step - loss: 0.0807\n",
      "Epoch 93/100\n",
      "70/70 [==============================] - 1s 8ms/step - loss: 0.0840\n",
      "Epoch 94/100\n",
      "70/70 [==============================] - 0s 6ms/step - loss: 0.0834\n",
      "Epoch 95/100\n",
      "70/70 [==============================] - 1s 8ms/step - loss: 0.0851\n",
      "Epoch 96/100\n",
      "70/70 [==============================] - 1s 8ms/step - loss: 0.0821\n",
      "Epoch 97/100\n",
      "70/70 [==============================] - 1s 7ms/step - loss: 0.0861\n",
      "Epoch 98/100\n",
      "70/70 [==============================] - 0s 6ms/step - loss: 0.0855\n",
      "Epoch 99/100\n",
      "70/70 [==============================] - 0s 5ms/step - loss: 0.0890\n",
      "Epoch 100/100\n",
      "70/70 [==============================] - 0s 5ms/step - loss: 0.0855\n"
     ]
    },
    {
     "data": {
      "text/plain": [
       "<keras.callbacks.History at 0x21872267460>"
      ]
     },
     "execution_count": 77,
     "metadata": {},
     "output_type": "execute_result"
    }
   ],
   "source": [
    "model.fit(all_input_values_train, all_close_values_train, epochs=100,batch_size=8,verbose=1)"
   ]
  },
  {
   "cell_type": "code",
   "execution_count": 78,
   "metadata": {},
   "outputs": [
    {
     "name": "stdout",
     "output_type": "stream",
     "text": [
      "all_close_values_train shape:  (555, 1)\n",
      "all_close_values_train_predict shape:  (555, 5, 1)\n",
      "all_close_values_test shape:  (186, 1)\n",
      "all_close_values_test_pred shape:  (186, 5, 1)\n"
     ]
    }
   ],
   "source": [
    "train_predict=model.predict(all_input_values_train)\n",
    "test_predict=model.predict(all_input_values_test)\n",
    "\n",
    "#train_predict = train_predict.reshape((train_predict.shape[0],5,1))\n",
    "#test_predict = test_predict.reshape((test_predict.shape[0],5,1))\n",
    "\n",
    "# print('all_close_values_train shape: ', all_close_values_train.shape, '\\nall_close_values_train', all_close_values_train[0:5], '\\n')\n",
    "# print('all_close_values_train_predict shape: ', train_predict.shape, '\\nall_close_values_train_pred', train_predict[0:5], '\\n')\n",
    "# print('all_close_values_test shape: ', all_close_values_test.shape, '\\nall_close_values_test', all_close_values_test[0:5], '\\n')\n",
    "# print('all_close_values_test_pred shape: ', test_predict.shape, '\\nall_close_values_test_pred', test_predict[0:5])\n",
    "\n",
    "print('all_close_values_train shape: ', all_close_values_train.shape)\n",
    "print('all_close_values_train_predict shape: ', train_predict.shape)\n",
    "\n",
    "print('all_close_values_test shape: ', all_close_values_test.shape)\n",
    "print('all_close_values_test_pred shape: ', test_predict.shape)\n"
   ]
  },
  {
   "cell_type": "code",
   "execution_count": 79,
   "metadata": {},
   "outputs": [
    {
     "name": "stdout",
     "output_type": "stream",
     "text": [
      "[1.57033681]\n",
      "[1.40670355]\n",
      "[[1.5896468]\n",
      " [1.4711261]\n",
      " [1.493459 ]\n",
      " [1.3841708]\n",
      " [1.5515563]]\n",
      "[[1.517962 ]\n",
      " [1.4793425]\n",
      " [1.3734081]\n",
      " [1.5422199]\n",
      " [1.4928136]]\n",
      "[[1.5184169]\n",
      " [1.3656683]\n",
      " [1.5317566]\n",
      " [1.4853244]\n",
      " [1.4308395]]\n"
     ]
    }
   ],
   "source": [
    "print(all_close_values_test[0])\n",
    "print(all_close_values_test[1])\n",
    "print(test_predict[0])\n",
    "print(test_predict[1])\n",
    "print(test_predict[2])"
   ]
  },
  {
   "cell_type": "code",
   "execution_count": 80,
   "metadata": {},
   "outputs": [],
   "source": [
    "test_predict = test_predict.reshape((test_predict.shape[0],5))"
   ]
  },
  {
   "cell_type": "code",
   "execution_count": 81,
   "metadata": {},
   "outputs": [],
   "source": [
    "train_predict = train_predict.reshape((train_predict.shape[0],5))"
   ]
  },
  {
   "cell_type": "code",
   "execution_count": 82,
   "metadata": {},
   "outputs": [],
   "source": [
    "test_predict = scaler2.inverse_transform(test_predict)\n",
    "train_predict = scaler2.inverse_transform(train_predict)"
   ]
  },
  {
   "cell_type": "code",
   "execution_count": 83,
   "metadata": {},
   "outputs": [
    {
     "data": {
      "text/plain": [
       "(555, 5)"
      ]
     },
     "execution_count": 83,
     "metadata": {},
     "output_type": "execute_result"
    }
   ],
   "source": [
    "train_predict.shape"
   ]
  },
  {
   "cell_type": "code",
   "execution_count": 84,
   "metadata": {},
   "outputs": [],
   "source": [
    "#test_predict=test_predict.reshape((test_predict.shape[0]*test_predict.shape[1],1))"
   ]
  },
  {
   "cell_type": "code",
   "execution_count": 85,
   "metadata": {},
   "outputs": [
    {
     "data": {
      "text/plain": [
       "(186, 5)"
      ]
     },
     "execution_count": 85,
     "metadata": {},
     "output_type": "execute_result"
    }
   ],
   "source": [
    "test_predict.shape"
   ]
  },
  {
   "cell_type": "code",
   "execution_count": 86,
   "metadata": {},
   "outputs": [],
   "source": [
    "# Preditct 186, 5, 1 döndü, 186 5'e reshape edildi ve son elemanlar seçilerek 186,1 elde edildi\n",
    "# temp_predict=[]\n",
    "# for i in range(test_predict.shape[0]):\n",
    "#     temp_predict.append(test_predict[i][4])\n",
    "\n",
    "# test_predict=np.array(temp_predict)\n",
    "# print(test_predict.shape)\n",
    "\n",
    "# temp_train_predict=[]\n",
    "# for i in range(train_predict.shape[0]):\n",
    "#     temp_train_predict.append(train_predict[i][4])\n",
    "\n",
    "# train_predict=np.array(temp_train_predict)\n",
    "# print(train_predict.shape)"
   ]
  },
  {
   "cell_type": "code",
   "execution_count": 87,
   "metadata": {},
   "outputs": [
    {
     "name": "stdout",
     "output_type": "stream",
     "text": [
      "(186,)\n",
      "(555,)\n"
     ]
    }
   ],
   "source": [
    "# Preditct 186, 5, 1 döndü, 186 5'e reshape edildi ve 5 elemanın ortalaması alınarak 186,1 elde edildi\n",
    "temp_predict=[]\n",
    "close_average=0\n",
    "for i in range(test_predict.shape[0]):\n",
    "    for j in range(5):\n",
    "        close_average+=test_predict[i][j]\n",
    "    temp_predict.append(close_average/5)\n",
    "    close_average=0\n",
    "\n",
    "test_predict=np.array(temp_predict)\n",
    "print(test_predict.shape)\n",
    "\n",
    "\n",
    "temp_train_predict=[]\n",
    "close_average=0\n",
    "for i in range(train_predict.shape[0]):\n",
    "    for j in range(5):\n",
    "        close_average+=train_predict[i][j]\n",
    "    temp_train_predict.append(close_average/5)\n",
    "    close_average=0\n",
    "train_predict=np.array(temp_train_predict)\n",
    "print(train_predict.shape)"
   ]
  },
  {
   "cell_type": "code",
   "execution_count": 88,
   "metadata": {},
   "outputs": [],
   "source": [
    "train_predict = np.array([train_predict]).T\n",
    "test_predict = np.array([test_predict]).T"
   ]
  },
  {
   "cell_type": "code",
   "execution_count": 89,
   "metadata": {},
   "outputs": [
    {
     "name": "stdout",
     "output_type": "stream",
     "text": [
      "(186, 1)\n"
     ]
    }
   ],
   "source": [
    "all_close_values_test=np.array(all_close_values_test)\n",
    "print(all_close_values_test.shape)"
   ]
  },
  {
   "cell_type": "code",
   "execution_count": 90,
   "metadata": {},
   "outputs": [
    {
     "data": {
      "text/plain": [
       "array([321.36773682])"
      ]
     },
     "execution_count": 90,
     "metadata": {},
     "output_type": "execute_result"
    }
   ],
   "source": [
    "train_predict[1]"
   ]
  },
  {
   "cell_type": "code",
   "execution_count": 91,
   "metadata": {},
   "outputs": [],
   "source": [
    "all_close_values_train = scaler2.inverse_transform(all_close_values_train)\n",
    "all_close_values_test = scaler2.inverse_transform(all_close_values_test)"
   ]
  },
  {
   "cell_type": "code",
   "execution_count": 92,
   "metadata": {},
   "outputs": [
    {
     "name": "stdout",
     "output_type": "stream",
     "text": [
      "0.07463908821815742\n",
      "0.0743249261973458\n"
     ]
    }
   ],
   "source": [
    "mape_test = mean_absolute_percentage_error(all_close_values_test, temp_predict)\n",
    "mape_train = mean_absolute_percentage_error(all_close_values_train, temp_train_predict)\n",
    "print(mape_test)\n",
    "print(mape_train)"
   ]
  },
  {
   "cell_type": "code",
   "execution_count": 93,
   "metadata": {},
   "outputs": [
    {
     "name": "stdout",
     "output_type": "stream",
     "text": [
      "91.62090625721461\n"
     ]
    }
   ],
   "source": [
    "rmse = np.sqrt(mean_squared_error(all_close_values_test, test_predict))\n",
    "print(rmse)"
   ]
  },
  {
   "cell_type": "code",
   "execution_count": 94,
   "metadata": {},
   "outputs": [
    {
     "data": {
      "text/plain": [
       "(555, 1)"
      ]
     },
     "execution_count": 94,
     "metadata": {},
     "output_type": "execute_result"
    }
   ],
   "source": [
    "train_predict=np.array(train_predict)\n",
    "train_predict.shape"
   ]
  },
  {
   "cell_type": "code",
   "execution_count": 95,
   "metadata": {},
   "outputs": [
    {
     "data": {
      "text/plain": [
       "array([321.36773682])"
      ]
     },
     "execution_count": 95,
     "metadata": {},
     "output_type": "execute_result"
    }
   ],
   "source": [
    "test=all_close_values[5:]\n",
    "train_predict[1]"
   ]
  },
  {
   "cell_type": "code",
   "execution_count": 96,
   "metadata": {},
   "outputs": [
    {
     "data": {
      "image/png": "[encoded data removed]",
      "text/plain": [
       "<Figure size 1152x576 with 1 Axes>"
      ]
     },
     "metadata": {
      "needs_background": "light"
     },
     "output_type": "display_data"
    }
   ],
   "source": [
    "#look_back = 7\n",
    "plt.figure(figsize=(16,8))\n",
    "plt.title('Stock Price Prediction TESLA with Machine Learning LSTM Model')\n",
    "plt.xlabel('Date', fontsize=18)\n",
    "plt.ylabel('Tesla Close Price', fontsize=18)\n",
    "plt.plot(model_close_values)\n",
    "plt.plot(train_predict)\n",
    "plt.plot(np.arange(len(test_predict)) + len(all_close_values_train), test_predict)\n",
    "plt.legend(['Close Price', 'Training Prediction', 'Test Prediction'], loc='lower right')\n",
    "plt.show() "
   ]
  },
  {
   "cell_type": "code",
   "execution_count": null,
   "metadata": {},
   "outputs": [],
   "source": []
  }
 ],
 "metadata": {
  "interpreter": {
   "hash": "1e96c48bd2f2c87de99cbbc8e8be955c5c039e1e80d25dfb77282996a6396753"
  },
  "kernelspec": {
   "display_name": "Python 3.9.7 64-bit",
   "language": "python",
   "name": "python3"
  },
  "language_info": {
   "codemirror_mode": {
    "name": "ipython",
    "version": 3
   },
   "file_extension": ".py",
   "mimetype": "text/x-python",
   "name": "python",
   "nbconvert_exporter": "python",
   "pygments_lexer": "ipython3",
   "version": "3.9.7"
  },
  "orig_nbformat": 4
 },
 "nbformat": 4,
 "nbformat_minor": 2
}
